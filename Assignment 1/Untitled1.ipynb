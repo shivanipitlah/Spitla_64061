{
  "nbformat": 4,
  "nbformat_minor": 0,
  "metadata": {
    "colab": {
      "provenance": []
    },
    "kernelspec": {
      "name": "python3",
      "display_name": "Python 3"
    },
    "language_info": {
      "name": "python"
    }
  },
  "cells": [
    {
      "cell_type": "markdown",
      "source": [
        "# **Neural Network model**"
      ],
      "metadata": {
        "id": "RyripI52xVic"
      }
    },
    {
      "cell_type": "markdown",
      "source": [
        "**Loading the required packages**"
      ],
      "metadata": {
        "id": "TbpZattMxpMZ"
      }
    },
    {
      "cell_type": "code",
      "execution_count": 18,
      "metadata": {
        "colab": {
          "base_uri": "https://localhost:8080/"
        },
        "id": "QRZyUaDN20tK",
        "outputId": "217782e2-bafe-4f0b-eb1b-a95296fe2dc9"
      },
      "outputs": [
        {
          "output_type": "execute_result",
          "data": {
            "text/plain": [
              "9999"
            ]
          },
          "metadata": {},
          "execution_count": 18
        }
      ],
      "source": [
        "import seaborn as sns\n",
        "import matplotlib.pyplot as plt\n",
        "%matplotlib inline\n",
        "#IMPORTING THE IMDB DATASET\n",
        "from tensorflow.keras.datasets import imdb\n",
        "(train_data, train_labels), (test_data, test_labels) = imdb.load_data(\n",
        "    num_words=10000)\n",
        "train_data[0]\n",
        "train_labels[0]\n",
        "max([max(sequence) for sequence in train_data])\n"
      ]
    },
    {
      "cell_type": "markdown",
      "source": [
        "## **Decoding reviews back to text**\n"
      ],
      "metadata": {
        "id": "ynmSOXvb3Bxl"
      }
    },
    {
      "cell_type": "code",
      "source": [
        "word_index = imdb.get_word_index()\n",
        "reverse_word_index = dict(\n",
        "    [(value, key) for (key, value) in word_index.items()])\n",
        "decoded_review = \" \".join(\n",
        "    [reverse_word_index.get(i - 3, \"?\") for i in train_data[0]])"
      ],
      "metadata": {
        "colab": {
          "base_uri": "https://localhost:8080/"
        },
        "id": "DXMnXPjl3II4",
        "outputId": "5e77ff14-fa0c-4e91-da4a-7ade4169b32c"
      },
      "execution_count": 6,
      "outputs": [
        {
          "output_type": "stream",
          "name": "stdout",
          "text": [
            "Downloading data from https://storage.googleapis.com/tensorflow/tf-keras-datasets/imdb_word_index.json\n",
            "1641221/1641221 [==============================] - 0s 0us/step\n"
          ]
        }
      ]
    },
    {
      "cell_type": "markdown",
      "source": [
        "## **Preparing the data**"
      ],
      "metadata": {
        "id": "JJW1Rcwu3eZZ"
      }
    },
    {
      "cell_type": "markdown",
      "source": [
        "**Encoding the integer sequences via multi-hot encoding**"
      ],
      "metadata": {
        "id": "HgtoF2Fn3h_4"
      }
    },
    {
      "cell_type": "code",
      "source": [
        "import numpy as np\n",
        "def vectorize_sequences(sequences, dimension=10000):\n",
        "    results = np.zeros((len(sequences), dimension))\n",
        "    for i, sequence in enumerate(sequences):\n",
        "        for j in sequence:\n",
        "            results[i, j] = 1.\n",
        "    return results\n",
        "x_train = vectorize_sequences(train_data)\n",
        "x_test = vectorize_sequences(test_data)\n",
        "x_train[0]\n",
        "y_train = np.asarray(train_labels).astype(\"float32\")\n",
        "y_test = np.asarray(test_labels).astype(\"float32\")\n"
      ],
      "metadata": {
        "id": "Dt2NLQmL4tOL"
      },
      "execution_count": 7,
      "outputs": []
    },
    {
      "cell_type": "markdown",
      "source": [
        "## **Model 1- Hidden layers= 2, Nodes=16**"
      ],
      "metadata": {
        "id": "p8W50V5ZIOf9"
      }
    },
    {
      "cell_type": "markdown",
      "source": [
        "**Model** **definition**"
      ],
      "metadata": {
        "id": "5IaSu5bnIkx4"
      }
    },
    {
      "cell_type": "code",
      "source": [
        "from tensorflow import keras\n",
        "from tensorflow.keras import layers\n",
        "\n",
        "model = keras.Sequential([\n",
        "    layers.Dense(16, activation=\"relu\"),\n",
        "    layers.Dense(16, activation=\"relu\"),\n",
        "    layers.Dense(1, activation=\"sigmoid\")\n",
        "])"
      ],
      "metadata": {
        "id": "AVctxTMiIosL"
      },
      "execution_count": 8,
      "outputs": []
    },
    {
      "cell_type": "markdown",
      "source": [
        "## **Compiling the model**"
      ],
      "metadata": {
        "id": "S3Tq4Um8Kcqu"
      }
    },
    {
      "cell_type": "code",
      "source": [
        "model.compile(optimizer=\"rmsprop\",\n",
        "              loss=\"binary_crossentropy\",\n",
        "              metrics=[\"accuracy\"])\n",
        "\n",
        "\n"
      ],
      "metadata": {
        "id": "ovEF3Mw8Hbkw"
      },
      "execution_count": 9,
      "outputs": []
    },
    {
      "cell_type": "markdown",
      "source": [
        "## **setting up the validation set and training set**\n"
      ],
      "metadata": {
        "id": "4OVg4f-rIGAZ"
      }
    },
    {
      "cell_type": "code",
      "source": [
        "x_val = x_train[:10000]\n",
        "partial_x_train = x_train[10000:]\n",
        "y_val = y_train[:10000]\n",
        "partial_y_train = y_train[10000:]"
      ],
      "metadata": {
        "id": "Y4McFUCyISsr"
      },
      "execution_count": 10,
      "outputs": []
    },
    {
      "cell_type": "markdown",
      "source": [
        "**Training your model**"
      ],
      "metadata": {
        "id": "3nJ5CowQJCqh"
      }
    },
    {
      "cell_type": "code",
      "source": [
        "\n",
        "history = model.fit(partial_x_train,\n",
        "                    partial_y_train,\n",
        "                    epochs=20,\n",
        "                    batch_size=512,\n",
        "                    validation_data=(x_val, y_val))"
      ],
      "metadata": {
        "colab": {
          "base_uri": "https://localhost:8080/"
        },
        "id": "uVvVB9KbJG_t",
        "outputId": "9e2eb927-258b-42cd-ff69-1658c6effccd"
      },
      "execution_count": 15,
      "outputs": [
        {
          "output_type": "stream",
          "name": "stdout",
          "text": [
            "Epoch 1/20\n",
            "30/30 [==============================] - 3s 89ms/step - loss: 0.5070 - accuracy: 0.7969 - val_loss: 0.4075 - val_accuracy: 0.8645\n",
            "Epoch 2/20\n",
            "30/30 [==============================] - 2s 54ms/step - loss: 0.3444 - accuracy: 0.8910 - val_loss: 0.3360 - val_accuracy: 0.8791\n",
            "Epoch 3/20\n",
            "30/30 [==============================] - 1s 41ms/step - loss: 0.2752 - accuracy: 0.9123 - val_loss: 0.3019 - val_accuracy: 0.8881\n",
            "Epoch 4/20\n",
            "30/30 [==============================] - 1s 38ms/step - loss: 0.2322 - accuracy: 0.9248 - val_loss: 0.2953 - val_accuracy: 0.8805\n",
            "Epoch 5/20\n",
            "30/30 [==============================] - 1s 38ms/step - loss: 0.2020 - accuracy: 0.9349 - val_loss: 0.2799 - val_accuracy: 0.8869\n",
            "Epoch 6/20\n",
            "30/30 [==============================] - 1s 40ms/step - loss: 0.1772 - accuracy: 0.9457 - val_loss: 0.2723 - val_accuracy: 0.8881\n",
            "Epoch 7/20\n",
            "30/30 [==============================] - 1s 39ms/step - loss: 0.1588 - accuracy: 0.9519 - val_loss: 0.2782 - val_accuracy: 0.8869\n",
            "Epoch 8/20\n",
            "30/30 [==============================] - 1s 38ms/step - loss: 0.1434 - accuracy: 0.9564 - val_loss: 0.2807 - val_accuracy: 0.8850\n",
            "Epoch 9/20\n",
            "30/30 [==============================] - 1s 38ms/step - loss: 0.1286 - accuracy: 0.9617 - val_loss: 0.2878 - val_accuracy: 0.8825\n",
            "Epoch 10/20\n",
            "30/30 [==============================] - 1s 38ms/step - loss: 0.1163 - accuracy: 0.9670 - val_loss: 0.3089 - val_accuracy: 0.8755\n",
            "Epoch 11/20\n",
            "30/30 [==============================] - 2s 57ms/step - loss: 0.1054 - accuracy: 0.9713 - val_loss: 0.3048 - val_accuracy: 0.8772\n",
            "Epoch 12/20\n",
            "30/30 [==============================] - 2s 66ms/step - loss: 0.0954 - accuracy: 0.9747 - val_loss: 0.3083 - val_accuracy: 0.8792\n",
            "Epoch 13/20\n",
            "30/30 [==============================] - 1s 40ms/step - loss: 0.0857 - accuracy: 0.9784 - val_loss: 0.3188 - val_accuracy: 0.8783\n",
            "Epoch 14/20\n",
            "30/30 [==============================] - 1s 38ms/step - loss: 0.0785 - accuracy: 0.9811 - val_loss: 0.3270 - val_accuracy: 0.8797\n",
            "Epoch 15/20\n",
            "30/30 [==============================] - 1s 39ms/step - loss: 0.0705 - accuracy: 0.9829 - val_loss: 0.3396 - val_accuracy: 0.8801\n",
            "Epoch 16/20\n",
            "30/30 [==============================] - 1s 37ms/step - loss: 0.0637 - accuracy: 0.9855 - val_loss: 0.3507 - val_accuracy: 0.8790\n",
            "Epoch 17/20\n",
            "30/30 [==============================] - 1s 40ms/step - loss: 0.0575 - accuracy: 0.9883 - val_loss: 0.3841 - val_accuracy: 0.8668\n",
            "Epoch 18/20\n",
            "30/30 [==============================] - 1s 39ms/step - loss: 0.0526 - accuracy: 0.9899 - val_loss: 0.4009 - val_accuracy: 0.8661\n",
            "Epoch 19/20\n",
            "30/30 [==============================] - 1s 37ms/step - loss: 0.0465 - accuracy: 0.9917 - val_loss: 0.4064 - val_accuracy: 0.8736\n",
            "Epoch 20/20\n",
            "30/30 [==============================] - 1s 37ms/step - loss: 0.0421 - accuracy: 0.9923 - val_loss: 0.4247 - val_accuracy: 0.8658\n"
          ]
        }
      ]
    },
    {
      "cell_type": "code",
      "source": [
        "history_dict = history.history\n",
        "history_dict.keys()"
      ],
      "metadata": {
        "colab": {
          "base_uri": "https://localhost:8080/"
        },
        "id": "mfmXKRVzLBA6",
        "outputId": "eef1dc17-d14e-43d5-e7d3-1c77c57882fc"
      },
      "execution_count": 37,
      "outputs": [
        {
          "output_type": "execute_result",
          "data": {
            "text/plain": [
              "dict_keys(['loss', 'accuracy', 'val_loss', 'val_accuracy'])"
            ]
          },
          "metadata": {},
          "execution_count": 37
        }
      ]
    },
    {
      "cell_type": "markdown",
      "source": [
        "**Plotting the training and validation loss**"
      ],
      "metadata": {
        "id": "CUDYec4SMvHz"
      }
    },
    {
      "cell_type": "code",
      "source": [
        "import matplotlib.pyplot as plt\n",
        "history_dict = history.history\n",
        "loss_values = history_dict[\"loss\"]\n",
        "val_loss_values = history_dict[\"val_loss\"]\n",
        "epochs = range(1, len(loss_values) + 1)\n",
        "plt.plot(epochs, loss_values, \"r\", label=\"Training loss\")\n",
        "plt.plot(epochs, val_loss_values, \"grey\", label=\"Validation loss\")\n",
        "plt.title(\"Training and validation loss\")\n",
        "plt.xlabel(\"Epochs\")\n",
        "plt.ylabel(\"Loss\")\n",
        "plt.legend()\n",
        "plt.show()"
      ],
      "metadata": {
        "colab": {
          "base_uri": "https://localhost:8080/",
          "height": 295
        },
        "id": "vQZQEu26LWwG",
        "outputId": "e0b20580-2929-4a0d-c1a1-75d2e8ae2c68"
      },
      "execution_count": 38,
      "outputs": [
        {
          "output_type": "display_data",
          "data": {
            "text/plain": [
              "<Figure size 432x288 with 1 Axes>"
            ],
            "image/png": "[encoded data removed]"
          },
          "metadata": {
            "needs_background": "light"
          }
        }
      ]
    },
    {
      "cell_type": "markdown",
      "source": [
        "**Plotting the training and validation accuracy**"
      ],
      "metadata": {
        "id": "qCMUdivNYgTe"
      }
    },
    {
      "cell_type": "code",
      "source": [
        "plt.clf()\n",
        "acc = history_dict[\"accuracy\"]\n",
        "val_acc = history_dict[\"val_accuracy\"]\n",
        "plt.plot(epochs, acc, \"bo\", label=\"Training acc\")\n",
        "plt.plot(epochs, val_acc, \"grey\", label=\"Validation acc\")\n",
        "plt.title(\"Training and validation accuracy\")\n",
        "plt.xlabel(\"Epochs\")\n",
        "plt.ylabel(\"Accuracy\")\n",
        "plt.legend()\n",
        "plt.show()\n"
      ],
      "metadata": {
        "colab": {
          "base_uri": "https://localhost:8080/",
          "height": 295
        },
        "id": "W4cd60v0TgwF",
        "outputId": "222dab1c-a86b-4801-fea0-822747ed3daa"
      },
      "execution_count": 39,
      "outputs": [
        {
          "output_type": "display_data",
          "data": {
            "text/plain": [
              "<Figure size 432x288 with 1 Axes>"
            ],
            "image/png": "[encoded data removed]"
          },
          "metadata": {
            "needs_background": "light"
          }
        }
      ]
    },
    {
      "cell_type": "markdown",
      "source": [
        "**Retraining a model from scratch with epochs=4**"
      ],
      "metadata": {
        "id": "w7a7_MKxUv9Q"
      }
    },
    {
      "cell_type": "code",
      "source": [
        "model = keras.Sequential([\n",
        "    layers.Dense(16, activation=\"relu\"),\n",
        "    layers.Dense(16, activation=\"relu\"),\n",
        "    layers.Dense(1, activation=\"sigmoid\")\n",
        "])\n",
        "model.compile(optimizer=\"rmsprop\",\n",
        "              loss=\"binary_crossentropy\",\n",
        "              metrics=[\"accuracy\"])\n",
        "model.fit(x_train, y_train, epochs=4, batch_size=512)\n",
        "results = model.evaluate(x_test, y_test)"
      ],
      "metadata": {
        "colab": {
          "base_uri": "https://localhost:8080/"
        },
        "id": "3F3ng7zAUy-X",
        "outputId": "81f8bb57-861c-4d53-bd7b-5b799d3f34d5"
      },
      "execution_count": 35,
      "outputs": [
        {
          "output_type": "stream",
          "name": "stdout",
          "text": [
            "Epoch 1/4\n",
            "49/49 [==============================] - 2s 34ms/step - loss: 0.4789 - accuracy: 0.8064\n",
            "Epoch 2/4\n",
            "49/49 [==============================] - 2s 42ms/step - loss: 0.2772 - accuracy: 0.9026\n",
            "Epoch 3/4\n",
            "49/49 [==============================] - 1s 30ms/step - loss: 0.2159 - accuracy: 0.9232\n",
            "Epoch 4/4\n",
            "49/49 [==============================] - 1s 28ms/step - loss: 0.1836 - accuracy: 0.9340\n",
            "782/782 [==============================] - 2s 2ms/step - loss: 0.3028 - accuracy: 0.8781\n"
          ]
        }
      ]
    },
    {
      "cell_type": "code",
      "source": [
        "results=model.evaluate(x_test,y_test)"
      ],
      "metadata": {
        "colab": {
          "base_uri": "https://localhost:8080/"
        },
        "id": "KHr6eucjVM0S",
        "outputId": "d3bfda7f-b466-436d-9fbf-e9835b4db286"
      },
      "execution_count": 36,
      "outputs": [
        {
          "output_type": "stream",
          "name": "stdout",
          "text": [
            "782/782 [==============================] - 3s 3ms/step - loss: 0.3028 - accuracy: 0.8781\n"
          ]
        }
      ]
    },
    {
      "cell_type": "markdown",
      "source": [
        "**The first model built had an accuracy on the test set of 87.81%.**"
      ],
      "metadata": {
        "id": "vM0w_ecesmit"
      }
    },
    {
      "cell_type": "markdown",
      "source": [
        "### **Using a trained model to generate predictions on new data**"
      ],
      "metadata": {
        "id": "WX6sFBPSVUsb"
      }
    },
    {
      "cell_type": "code",
      "source": [
        "model.predict(x_test)"
      ],
      "metadata": {
        "colab": {
          "base_uri": "https://localhost:8080/"
        },
        "id": "_oCMSF9xVeYk",
        "outputId": "c7aa498f-93eb-454a-c511-5983b75c8e25"
      },
      "execution_count": 37,
      "outputs": [
        {
          "output_type": "stream",
          "name": "stdout",
          "text": [
            "782/782 [==============================] - 2s 2ms/step\n"
          ]
        },
        {
          "output_type": "execute_result",
          "data": {
            "text/plain": [
              "array([[0.14736892],\n",
              "       [0.9995899 ],\n",
              "       [0.57310694],\n",
              "       ...,\n",
              "       [0.07394038],\n",
              "       [0.04948555],\n",
              "       [0.32760125]], dtype=float32)"
            ]
          },
          "metadata": {},
          "execution_count": 37
        }
      ]
    },
    {
      "cell_type": "markdown",
      "source": [
        "## **MODEL 2 - 1 hidden layer 64 nodes**"
      ],
      "metadata": {
        "id": "4kMMpfZNcAfQ"
      }
    },
    {
      "cell_type": "code",
      "source": [
        "model = keras.Sequential([\n",
        "    layers.Dense(64,activation='tanh',input_shape=(10000,)),\n",
        "    layers.Dense(1,activation='sigmoid')\n",
        "])\n",
        "\n",
        "model.compile(optimizer='rmsprop',\n",
        "              loss='mse',\n",
        "              metrics=['accuracy'])\n",
        "\n",
        "history2 = model.fit(partial_x_train,\n",
        "                       partial_y_train,\n",
        "                       epochs=50,\n",
        "                       batch_size=512,\n",
        "                       validation_data=(x_val,y_val))"
      ],
      "metadata": {
        "colab": {
          "base_uri": "https://localhost:8080/"
        },
        "id": "abjmgyZy3EXM",
        "outputId": "c96bc600-c75d-4be8-b243-ef654f69d80d"
      },
      "execution_count": 34,
      "outputs": [
        {
          "output_type": "stream",
          "name": "stdout",
          "text": [
            "Epoch 1/50\n",
            "30/30 [==============================] - 5s 155ms/step - loss: 0.1657 - accuracy: 0.7744 - val_loss: 0.1237 - val_accuracy: 0.8481\n",
            "Epoch 2/50\n",
            "30/30 [==============================] - 2s 72ms/step - loss: 0.0975 - accuracy: 0.8867 - val_loss: 0.1042 - val_accuracy: 0.8633\n",
            "Epoch 3/50\n",
            "30/30 [==============================] - 2s 69ms/step - loss: 0.0805 - accuracy: 0.9023 - val_loss: 0.0912 - val_accuracy: 0.8804\n",
            "Epoch 4/50\n",
            "30/30 [==============================] - 2s 62ms/step - loss: 0.0677 - accuracy: 0.9186 - val_loss: 0.0841 - val_accuracy: 0.8899\n",
            "Epoch 5/50\n",
            "30/30 [==============================] - 2s 63ms/step - loss: 0.0590 - accuracy: 0.9295 - val_loss: 0.0993 - val_accuracy: 0.8628\n",
            "Epoch 6/50\n",
            "30/30 [==============================] - 3s 95ms/step - loss: 0.0541 - accuracy: 0.9359 - val_loss: 0.0848 - val_accuracy: 0.8856\n",
            "Epoch 7/50\n",
            "30/30 [==============================] - 3s 83ms/step - loss: 0.0479 - accuracy: 0.9451 - val_loss: 0.0987 - val_accuracy: 0.8643\n",
            "Epoch 8/50\n",
            "30/30 [==============================] - 2s 70ms/step - loss: 0.0446 - accuracy: 0.9482 - val_loss: 0.0840 - val_accuracy: 0.8846\n",
            "Epoch 9/50\n",
            "30/30 [==============================] - 2s 70ms/step - loss: 0.0385 - accuracy: 0.9571 - val_loss: 0.0936 - val_accuracy: 0.8730\n",
            "Epoch 10/50\n",
            "30/30 [==============================] - 2s 69ms/step - loss: 0.0394 - accuracy: 0.9549 - val_loss: 0.0863 - val_accuracy: 0.8820\n",
            "Epoch 11/50\n",
            "30/30 [==============================] - 2s 70ms/step - loss: 0.0346 - accuracy: 0.9611 - val_loss: 0.0876 - val_accuracy: 0.8810\n",
            "Epoch 12/50\n",
            "30/30 [==============================] - 3s 108ms/step - loss: 0.0330 - accuracy: 0.9628 - val_loss: 0.0916 - val_accuracy: 0.8763\n",
            "Epoch 13/50\n",
            "30/30 [==============================] - 2s 73ms/step - loss: 0.0289 - accuracy: 0.9694 - val_loss: 0.1003 - val_accuracy: 0.8706\n",
            "Epoch 14/50\n",
            "30/30 [==============================] - 2s 71ms/step - loss: 0.0268 - accuracy: 0.9733 - val_loss: 0.0945 - val_accuracy: 0.8743\n",
            "Epoch 15/50\n",
            "30/30 [==============================] - 2s 62ms/step - loss: 0.0269 - accuracy: 0.9715 - val_loss: 0.0984 - val_accuracy: 0.8710\n",
            "Epoch 16/50\n",
            "30/30 [==============================] - 2s 66ms/step - loss: 0.0248 - accuracy: 0.9740 - val_loss: 0.0957 - val_accuracy: 0.8757\n",
            "Epoch 17/50\n",
            "30/30 [==============================] - 2s 63ms/step - loss: 0.0227 - accuracy: 0.9767 - val_loss: 0.0951 - val_accuracy: 0.8777\n",
            "Epoch 18/50\n",
            "30/30 [==============================] - 3s 104ms/step - loss: 0.0203 - accuracy: 0.9800 - val_loss: 0.0979 - val_accuracy: 0.8736\n",
            "Epoch 19/50\n",
            "30/30 [==============================] - 2s 75ms/step - loss: 0.0193 - accuracy: 0.9810 - val_loss: 0.0967 - val_accuracy: 0.8762\n",
            "Epoch 20/50\n",
            "30/30 [==============================] - 2s 70ms/step - loss: 0.0194 - accuracy: 0.9807 - val_loss: 0.0975 - val_accuracy: 0.8756\n",
            "Epoch 21/50\n",
            "30/30 [==============================] - 2s 70ms/step - loss: 0.0177 - accuracy: 0.9827 - val_loss: 0.0980 - val_accuracy: 0.8750\n",
            "Epoch 22/50\n",
            "30/30 [==============================] - 2s 63ms/step - loss: 0.0176 - accuracy: 0.9827 - val_loss: 0.0997 - val_accuracy: 0.8721\n",
            "Epoch 23/50\n",
            "30/30 [==============================] - 2s 63ms/step - loss: 0.0166 - accuracy: 0.9835 - val_loss: 0.1006 - val_accuracy: 0.8731\n",
            "Epoch 24/50\n",
            "30/30 [==============================] - 4s 121ms/step - loss: 0.0167 - accuracy: 0.9828 - val_loss: 0.1015 - val_accuracy: 0.8737\n",
            "Epoch 25/50\n",
            "30/30 [==============================] - 2s 69ms/step - loss: 0.0152 - accuracy: 0.9856 - val_loss: 0.1030 - val_accuracy: 0.8713\n",
            "Epoch 26/50\n",
            "30/30 [==============================] - 2s 69ms/step - loss: 0.0149 - accuracy: 0.9848 - val_loss: 0.1036 - val_accuracy: 0.8711\n",
            "Epoch 27/50\n",
            "30/30 [==============================] - 2s 62ms/step - loss: 0.0148 - accuracy: 0.9841 - val_loss: 0.1032 - val_accuracy: 0.8716\n",
            "Epoch 28/50\n",
            "30/30 [==============================] - 2s 62ms/step - loss: 0.0128 - accuracy: 0.9873 - val_loss: 0.1041 - val_accuracy: 0.8718\n",
            "Epoch 29/50\n",
            "30/30 [==============================] - 2s 71ms/step - loss: 0.0126 - accuracy: 0.9879 - val_loss: 0.1057 - val_accuracy: 0.8704\n",
            "Epoch 30/50\n",
            "30/30 [==============================] - 3s 106ms/step - loss: 0.0122 - accuracy: 0.9873 - val_loss: 0.1213 - val_accuracy: 0.8570\n",
            "Epoch 31/50\n",
            "30/30 [==============================] - 2s 65ms/step - loss: 0.0100 - accuracy: 0.9910 - val_loss: 0.1068 - val_accuracy: 0.8703\n",
            "Epoch 32/50\n",
            "30/30 [==============================] - 2s 70ms/step - loss: 0.0128 - accuracy: 0.9868 - val_loss: 0.1072 - val_accuracy: 0.8690\n",
            "Epoch 33/50\n",
            "30/30 [==============================] - 2s 69ms/step - loss: 0.0133 - accuracy: 0.9854 - val_loss: 0.1054 - val_accuracy: 0.8717\n",
            "Epoch 34/50\n",
            "30/30 [==============================] - 2s 64ms/step - loss: 0.0107 - accuracy: 0.9892 - val_loss: 0.1153 - val_accuracy: 0.8602\n",
            "Epoch 35/50\n",
            "30/30 [==============================] - 2s 68ms/step - loss: 0.0084 - accuracy: 0.9930 - val_loss: 0.1105 - val_accuracy: 0.8672\n",
            "Epoch 36/50\n",
            "30/30 [==============================] - 4s 125ms/step - loss: 0.0108 - accuracy: 0.9894 - val_loss: 0.1077 - val_accuracy: 0.8702\n",
            "Epoch 37/50\n",
            "30/30 [==============================] - 2s 68ms/step - loss: 0.0117 - accuracy: 0.9873 - val_loss: 0.1072 - val_accuracy: 0.8704\n",
            "Epoch 38/50\n",
            "30/30 [==============================] - 2s 63ms/step - loss: 0.0079 - accuracy: 0.9931 - val_loss: 0.1369 - val_accuracy: 0.8384\n",
            "Epoch 39/50\n",
            "30/30 [==============================] - 2s 63ms/step - loss: 0.0111 - accuracy: 0.9881 - val_loss: 0.1089 - val_accuracy: 0.8710\n",
            "Epoch 40/50\n",
            "30/30 [==============================] - 2s 70ms/step - loss: 0.0122 - accuracy: 0.9874 - val_loss: 0.1078 - val_accuracy: 0.8715\n",
            "Epoch 41/50\n",
            "30/30 [==============================] - 3s 93ms/step - loss: 0.0074 - accuracy: 0.9934 - val_loss: 0.1091 - val_accuracy: 0.8689\n",
            "Epoch 42/50\n",
            "30/30 [==============================] - 3s 91ms/step - loss: 0.0115 - accuracy: 0.9877 - val_loss: 0.1087 - val_accuracy: 0.8712\n",
            "Epoch 43/50\n",
            "30/30 [==============================] - 2s 69ms/step - loss: 0.0072 - accuracy: 0.9935 - val_loss: 0.1084 - val_accuracy: 0.8716\n",
            "Epoch 44/50\n",
            "30/30 [==============================] - 2s 69ms/step - loss: 0.0125 - accuracy: 0.9864 - val_loss: 0.1089 - val_accuracy: 0.8698\n",
            "Epoch 45/50\n",
            "30/30 [==============================] - 2s 63ms/step - loss: 0.0071 - accuracy: 0.9935 - val_loss: 0.1087 - val_accuracy: 0.8710\n",
            "Epoch 46/50\n",
            "30/30 [==============================] - 2s 66ms/step - loss: 0.0108 - accuracy: 0.9883 - val_loss: 0.1101 - val_accuracy: 0.8696\n",
            "Epoch 47/50\n",
            "30/30 [==============================] - 3s 113ms/step - loss: 0.0071 - accuracy: 0.9935 - val_loss: 0.1107 - val_accuracy: 0.8703\n",
            "Epoch 48/50\n",
            "30/30 [==============================] - 2s 63ms/step - loss: 0.0081 - accuracy: 0.9921 - val_loss: 0.1293 - val_accuracy: 0.8479\n",
            "Epoch 49/50\n",
            "30/30 [==============================] - 2s 62ms/step - loss: 0.0074 - accuracy: 0.9930 - val_loss: 0.1098 - val_accuracy: 0.8709\n",
            "Epoch 50/50\n",
            "30/30 [==============================] - 2s 68ms/step - loss: 0.0069 - accuracy: 0.9935 - val_loss: 0.1108 - val_accuracy: 0.8693\n"
          ]
        }
      ]
    },
    {
      "cell_type": "code",
      "source": [
        "history_dict_2 = history2.history"
      ],
      "metadata": {
        "id": "7iHKio-uWxEE"
      },
      "execution_count": 35,
      "outputs": []
    },
    {
      "cell_type": "markdown",
      "source": [
        "**Plotting the training and validation loss**"
      ],
      "metadata": {
        "id": "-2i38jgLx-AT"
      }
    },
    {
      "cell_type": "code",
      "source": [
        "loss = history_dict_2['loss']\n",
        "val_loss = history_dict_2['val_loss']\n",
        "epochs = range(1, len(loss)+1)\n",
        "plt.plot(epochs, loss, color= \"grey\", label= \"Training Loss\")\n",
        "plt.plot(epochs, val_loss, color= \"red\",linestyle= \"dashed\", label= \"Validation Loss\")\n",
        "plt.xlabel(\"Epochs\")\n",
        "plt.ylabel(\"Loss\")\n",
        "plt.legend()\n",
        "plt.show()"
      ],
      "metadata": {
        "colab": {
          "base_uri": "https://localhost:8080/",
          "height": 279
        },
        "id": "zjmvLLai4_s0",
        "outputId": "175aa866-678b-4c68-9e50-6d152b077f24"
      },
      "execution_count": 36,
      "outputs": [
        {
          "output_type": "display_data",
          "data": {
            "text/plain": [
              "<Figure size 432x288 with 1 Axes>"
            ],
            "image/png": "[encoded data removed]"
          },
          "metadata": {
            "needs_background": "light"
          }
        }
      ]
    },
    {
      "cell_type": "markdown",
      "source": [
        "The validation loss begins to take a spike after the third epoch, so based on the loss graph above, we can determine that \"3\" is the appropriate number of epochs."
      ],
      "metadata": {
        "id": "rU5_E3SNyA6T"
      }
    },
    {
      "cell_type": "markdown",
      "source": [
        "**plotting the training and validation** **accuracy**"
      ],
      "metadata": {
        "id": "B_3xe3ER64Yw"
      }
    },
    {
      "cell_type": "code",
      "source": [
        "accuracy = history_dict_2['accuracy']\n",
        "validation_accuracy = history_dict_2['val_accuracy']\n",
        "epochs = range(1, len(accuracy)+1)\n",
        "plt.plot(epochs,accuracy,color=\"grey\",label=\"Training Accuracy\")\n",
        "plt.plot(epochs,validation_accuracy, color= \"blue\", linestyle=\"dashed\",label=\"Validation Accuracy\")\n",
        "plt.xlabel('Epochs')\n",
        "plt.ylabel('Accuracy')\n",
        "plt.legend()\n",
        "plt.show()"
      ],
      "metadata": {
        "colab": {
          "base_uri": "https://localhost:8080/",
          "height": 279
        },
        "id": "q2kt6INj7CvG",
        "outputId": "04237251-f8a6-4835-be8d-6db7f4d017ea"
      },
      "execution_count": 42,
      "outputs": [
        {
          "output_type": "display_data",
          "data": {
            "text/plain": [
              "<Figure size 432x288 with 1 Axes>"
            ],
            "image/png": "[encoded data removed]"
          },
          "metadata": {
            "needs_background": "light"
          }
        }
      ]
    },
    {
      "cell_type": "markdown",
      "source": [
        "Even from the accuracy graph we can say that the accuracy was highest at epoch=3"
      ],
      "metadata": {
        "id": "AaaW1WOq7isH"
      }
    },
    {
      "cell_type": "markdown",
      "source": [
        "**Retraining a model from scratch with epochs=3**"
      ],
      "metadata": {
        "id": "H3JN8_Aj7uPp"
      }
    },
    {
      "cell_type": "code",
      "source": [
        "model = keras.Sequential([\n",
        "    layers.Dense(64,activation='tanh',input_shape=(10000,)),\n",
        "    layers.Dense(1,activation='sigmoid')\n",
        "])\n",
        "\n",
        "model.compile(optimizer='rmsprop',\n",
        "              loss='mse',\n",
        "              metrics=['accuracy'])\n",
        "\n",
        "history_3 = model.fit(x_train,\n",
        "                       y_train,\n",
        "                       epochs=3,\n",
        "                       batch_size=512)             \n",
        "     "
      ],
      "metadata": {
        "colab": {
          "base_uri": "https://localhost:8080/"
        },
        "id": "8V6vDetW72MR",
        "outputId": "de6989ff-ce5c-42c8-d888-25b21d5fa239"
      },
      "execution_count": 43,
      "outputs": [
        {
          "output_type": "stream",
          "name": "stdout",
          "text": [
            "Epoch 1/3\n",
            "49/49 [==============================] - 3s 48ms/step - loss: 0.1458 - accuracy: 0.8048\n",
            "Epoch 2/3\n",
            "49/49 [==============================] - 2s 48ms/step - loss: 0.0852 - accuracy: 0.8938\n",
            "Epoch 3/3\n",
            "49/49 [==============================] - 4s 73ms/step - loss: 0.0722 - accuracy: 0.9077\n"
          ]
        }
      ]
    },
    {
      "cell_type": "code",
      "source": [
        "results2= model.evaluate(x_test,y_test)"
      ],
      "metadata": {
        "colab": {
          "base_uri": "https://localhost:8080/"
        },
        "id": "Rumo1zOZ8Cna",
        "outputId": "6c543c30-c1fe-479b-bef0-26aff6c38cfa"
      },
      "execution_count": 44,
      "outputs": [
        {
          "output_type": "stream",
          "name": "stdout",
          "text": [
            "782/782 [==============================] - 3s 3ms/step - loss: 0.0847 - accuracy: 0.8862\n"
          ]
        }
      ]
    },
    {
      "cell_type": "markdown",
      "source": [
        "**The second model built had an accuracy on the test set of 88.62%.**"
      ],
      "metadata": {
        "id": "fFdxGUDr9ZQb"
      }
    },
    {
      "cell_type": "markdown",
      "source": [
        "## **MODEL 3 - 3 hidden layer 64 nodes**"
      ],
      "metadata": {
        "id": "eiLQ2dmaGQnl"
      }
    },
    {
      "cell_type": "code",
      "source": [
        "from tensorflow import keras\n",
        "from tensorflow.keras import layers\n",
        "model = keras.Sequential([\n",
        "    layers.Dense(64,activation='relu',kernel_regularizer=regularizers.l2(0.001),input_shape=(10000,)),\n",
        "    layers.Dense(64,activation='relu',kernel_regularizer=regularizers.l2(0.001)),\n",
        "    layers.Dense(64,activation='relu',kernel_regularizer=regularizers.l2(0.001)),\n",
        "    layers.Dense(1,activation='sigmoid')\n",
        "])\n",
        "\n",
        "model.compile(optimizer='rmsprop',\n",
        "              loss='binary_crossentropy',\n",
        "              metrics=['accuracy'])\n",
        "\n",
        "history3 = model.fit(partial_x_train,\n",
        "                       partial_y_train,\n",
        "                       epochs=50,\n",
        "                       batch_size=512,\n",
        "                       validation_data = (x_val,y_val))"
      ],
      "metadata": {
        "colab": {
          "base_uri": "https://localhost:8080/"
        },
        "id": "eWTJ9ywiX6p7",
        "outputId": "4ebfd519-26b8-4e69-aea0-3330a108d939"
      },
      "execution_count": 45,
      "outputs": [
        {
          "output_type": "stream",
          "name": "stdout",
          "text": [
            "Epoch 1/50\n",
            "30/30 [==============================] - 4s 100ms/step - loss: 0.7735 - accuracy: 0.7251 - val_loss: 0.5606 - val_accuracy: 0.8687\n",
            "Epoch 2/50\n",
            "30/30 [==============================] - 2s 64ms/step - loss: 0.5084 - accuracy: 0.8767 - val_loss: 0.4649 - val_accuracy: 0.8894\n",
            "Epoch 3/50\n",
            "30/30 [==============================] - 2s 72ms/step - loss: 0.4173 - accuracy: 0.9039 - val_loss: 0.4657 - val_accuracy: 0.8769\n",
            "Epoch 4/50\n",
            "30/30 [==============================] - 2s 63ms/step - loss: 0.3668 - accuracy: 0.9179 - val_loss: 0.4468 - val_accuracy: 0.8798\n",
            "Epoch 5/50\n",
            "30/30 [==============================] - 2s 64ms/step - loss: 0.3108 - accuracy: 0.9408 - val_loss: 0.4416 - val_accuracy: 0.8796\n",
            "Epoch 6/50\n",
            "30/30 [==============================] - 3s 106ms/step - loss: 0.2928 - accuracy: 0.9391 - val_loss: 0.4770 - val_accuracy: 0.8714\n",
            "Epoch 7/50\n",
            "30/30 [==============================] - 2s 67ms/step - loss: 0.2655 - accuracy: 0.9509 - val_loss: 0.4718 - val_accuracy: 0.8661\n",
            "Epoch 8/50\n",
            "30/30 [==============================] - 2s 71ms/step - loss: 0.2578 - accuracy: 0.9488 - val_loss: 0.4372 - val_accuracy: 0.8811\n",
            "Epoch 9/50\n",
            "30/30 [==============================] - 2s 65ms/step - loss: 0.2276 - accuracy: 0.9604 - val_loss: 0.5362 - val_accuracy: 0.8509\n",
            "Epoch 10/50\n",
            "30/30 [==============================] - 2s 62ms/step - loss: 0.2107 - accuracy: 0.9693 - val_loss: 0.5427 - val_accuracy: 0.8614\n",
            "Epoch 11/50\n",
            "30/30 [==============================] - 2s 67ms/step - loss: 0.2156 - accuracy: 0.9633 - val_loss: 0.4953 - val_accuracy: 0.8739\n",
            "Epoch 12/50\n",
            "30/30 [==============================] - 4s 120ms/step - loss: 0.1931 - accuracy: 0.9736 - val_loss: 0.5967 - val_accuracy: 0.8474\n",
            "Epoch 13/50\n",
            "30/30 [==============================] - 2s 70ms/step - loss: 0.2013 - accuracy: 0.9727 - val_loss: 0.4735 - val_accuracy: 0.8787\n",
            "Epoch 14/50\n",
            "30/30 [==============================] - 2s 64ms/step - loss: 0.1787 - accuracy: 0.9786 - val_loss: 0.5041 - val_accuracy: 0.8726\n",
            "Epoch 15/50\n",
            "30/30 [==============================] - 2s 64ms/step - loss: 0.1812 - accuracy: 0.9796 - val_loss: 0.5081 - val_accuracy: 0.8716\n",
            "Epoch 16/50\n",
            "30/30 [==============================] - 2s 63ms/step - loss: 0.1791 - accuracy: 0.9798 - val_loss: 0.4942 - val_accuracy: 0.8756\n",
            "Epoch 17/50\n",
            "30/30 [==============================] - 2s 64ms/step - loss: 0.1793 - accuracy: 0.9801 - val_loss: 0.4809 - val_accuracy: 0.8757\n",
            "Epoch 18/50\n",
            "30/30 [==============================] - 4s 126ms/step - loss: 0.1797 - accuracy: 0.9801 - val_loss: 0.4658 - val_accuracy: 0.8769\n",
            "Epoch 19/50\n",
            "30/30 [==============================] - 2s 65ms/step - loss: 0.1630 - accuracy: 0.9817 - val_loss: 0.4569 - val_accuracy: 0.8763\n",
            "Epoch 20/50\n",
            "30/30 [==============================] - 2s 65ms/step - loss: 0.1614 - accuracy: 0.9821 - val_loss: 0.4720 - val_accuracy: 0.8750\n",
            "Epoch 21/50\n",
            "30/30 [==============================] - 2s 64ms/step - loss: 0.1613 - accuracy: 0.9812 - val_loss: 0.4791 - val_accuracy: 0.8724\n",
            "Epoch 22/50\n",
            "30/30 [==============================] - 2s 66ms/step - loss: 0.1636 - accuracy: 0.9784 - val_loss: 0.4610 - val_accuracy: 0.8786\n",
            "Epoch 23/50\n",
            "30/30 [==============================] - 2s 72ms/step - loss: 0.1619 - accuracy: 0.9791 - val_loss: 0.4504 - val_accuracy: 0.8769\n",
            "Epoch 24/50\n",
            "30/30 [==============================] - 3s 103ms/step - loss: 0.1723 - accuracy: 0.9802 - val_loss: 0.4352 - val_accuracy: 0.8752\n",
            "Epoch 25/50\n",
            "30/30 [==============================] - 2s 71ms/step - loss: 0.0967 - accuracy: 0.9996 - val_loss: 0.5109 - val_accuracy: 0.8773\n",
            "Epoch 26/50\n",
            "30/30 [==============================] - 2s 71ms/step - loss: 0.1625 - accuracy: 0.9819 - val_loss: 0.4954 - val_accuracy: 0.8741\n",
            "Epoch 27/50\n",
            "30/30 [==============================] - 2s 63ms/step - loss: 0.1623 - accuracy: 0.9791 - val_loss: 0.4789 - val_accuracy: 0.8750\n",
            "Epoch 28/50\n",
            "30/30 [==============================] - 2s 66ms/step - loss: 0.1570 - accuracy: 0.9793 - val_loss: 0.4519 - val_accuracy: 0.8769\n",
            "Epoch 29/50\n",
            "30/30 [==============================] - 2s 72ms/step - loss: 0.1587 - accuracy: 0.9791 - val_loss: 0.4318 - val_accuracy: 0.8745\n",
            "Epoch 30/50\n",
            "30/30 [==============================] - 3s 100ms/step - loss: 0.0864 - accuracy: 0.9999 - val_loss: 0.5030 - val_accuracy: 0.8728\n",
            "Epoch 31/50\n",
            "30/30 [==============================] - 2s 63ms/step - loss: 0.1675 - accuracy: 0.9797 - val_loss: 0.4783 - val_accuracy: 0.8748\n",
            "Epoch 32/50\n",
            "30/30 [==============================] - 2s 64ms/step - loss: 0.1597 - accuracy: 0.9785 - val_loss: 0.4528 - val_accuracy: 0.8754\n",
            "Epoch 33/50\n",
            "30/30 [==============================] - 2s 71ms/step - loss: 0.0881 - accuracy: 0.9969 - val_loss: 1.2797 - val_accuracy: 0.7340\n",
            "Epoch 34/50\n",
            "30/30 [==============================] - 2s 65ms/step - loss: 0.1051 - accuracy: 0.9905 - val_loss: 0.5044 - val_accuracy: 0.8781\n",
            "Epoch 35/50\n",
            "30/30 [==============================] - 2s 71ms/step - loss: 0.1667 - accuracy: 0.9813 - val_loss: 0.4788 - val_accuracy: 0.8762\n",
            "Epoch 36/50\n",
            "30/30 [==============================] - 3s 105ms/step - loss: 0.1564 - accuracy: 0.9794 - val_loss: 0.4380 - val_accuracy: 0.8768\n",
            "Epoch 37/50\n",
            "30/30 [==============================] - 2s 64ms/step - loss: 0.0736 - accuracy: 1.0000 - val_loss: 0.5577 - val_accuracy: 0.8614\n",
            "Epoch 38/50\n",
            "30/30 [==============================] - 2s 64ms/step - loss: 0.1442 - accuracy: 0.9812 - val_loss: 0.4870 - val_accuracy: 0.8758\n",
            "Epoch 39/50\n",
            "30/30 [==============================] - 2s 64ms/step - loss: 0.1675 - accuracy: 0.9797 - val_loss: 0.4551 - val_accuracy: 0.8767\n",
            "Epoch 40/50\n",
            "30/30 [==============================] - 2s 66ms/step - loss: 0.1071 - accuracy: 0.9893 - val_loss: 0.5047 - val_accuracy: 0.8604\n",
            "Epoch 41/50\n",
            "30/30 [==============================] - 2s 71ms/step - loss: 0.0728 - accuracy: 0.9994 - val_loss: 0.6645 - val_accuracy: 0.8357\n",
            "Epoch 42/50\n",
            "30/30 [==============================] - 3s 106ms/step - loss: 0.1375 - accuracy: 0.9794 - val_loss: 0.4860 - val_accuracy: 0.8772\n",
            "Epoch 43/50\n",
            "30/30 [==============================] - 2s 65ms/step - loss: 0.1551 - accuracy: 0.9783 - val_loss: 0.4500 - val_accuracy: 0.8783\n",
            "Epoch 44/50\n",
            "30/30 [==============================] - 2s 71ms/step - loss: 0.0655 - accuracy: 0.9999 - val_loss: 0.5273 - val_accuracy: 0.8740\n",
            "Epoch 45/50\n",
            "30/30 [==============================] - 2s 64ms/step - loss: 0.1507 - accuracy: 0.9786 - val_loss: 0.4777 - val_accuracy: 0.8767\n",
            "Epoch 46/50\n",
            "30/30 [==============================] - 2s 64ms/step - loss: 0.1562 - accuracy: 0.9818 - val_loss: 0.4413 - val_accuracy: 0.8758\n",
            "Epoch 47/50\n",
            "30/30 [==============================] - 2s 72ms/step - loss: 0.0738 - accuracy: 0.9966 - val_loss: 1.1374 - val_accuracy: 0.7462\n",
            "Epoch 48/50\n",
            "30/30 [==============================] - 3s 105ms/step - loss: 0.0886 - accuracy: 0.9908 - val_loss: 0.5103 - val_accuracy: 0.8716\n",
            "Epoch 49/50\n",
            "30/30 [==============================] - 2s 72ms/step - loss: 0.1450 - accuracy: 0.9809 - val_loss: 0.4623 - val_accuracy: 0.8776\n",
            "Epoch 50/50\n",
            "30/30 [==============================] - 2s 64ms/step - loss: 0.1389 - accuracy: 0.9801 - val_loss: 0.4282 - val_accuracy: 0.8771\n"
          ]
        }
      ]
    },
    {
      "cell_type": "code",
      "source": [
        "history_dict_3 = history3.history"
      ],
      "metadata": {
        "id": "IuZFt2laZwuH"
      },
      "execution_count": 46,
      "outputs": []
    },
    {
      "cell_type": "markdown",
      "source": [
        "**plotting the training and validation loss**"
      ],
      "metadata": {
        "id": "HYJeRJE7Z6al"
      }
    },
    {
      "cell_type": "code",
      "source": [
        "loss = history_dict_3['loss']\n",
        "val_loss = history_dict_3['val_loss']\n",
        "epochs = range(1, len(loss)+1)\n",
        "plt.plot(epochs,loss,color='grey',label='Training Loss')\n",
        "plt.plot(epochs,val_loss,color='red',linestyle='dashed',label='Validation Loss')\n",
        "plt.xlabel('Epochs')\n",
        "plt.ylabel('Loss')\n",
        "plt.legend()\n",
        "plt.show()"
      ],
      "metadata": {
        "colab": {
          "base_uri": "https://localhost:8080/",
          "height": 279
        },
        "id": "cDVvVlioZ-iw",
        "outputId": "35990cfb-f69b-427f-80ed-48832983cc17"
      },
      "execution_count": 47,
      "outputs": [
        {
          "output_type": "display_data",
          "data": {
            "text/plain": [
              "<Figure size 432x288 with 1 Axes>"
            ],
            "image/png": "[encoded data removed]"
          },
          "metadata": {
            "needs_background": "light"
          }
        }
      ]
    },
    {
      "cell_type": "markdown",
      "source": [
        "The validation loss begins to take a spike after the third epoch, so based on the loss graph above, we can determine that \"3\" is the appropriate number of epochs."
      ],
      "metadata": {
        "id": "-WhbBsmZaL0a"
      }
    },
    {
      "cell_type": "markdown",
      "source": [
        "**plotting the training and validation accuracy**"
      ],
      "metadata": {
        "id": "9lthTGiZaes-"
      }
    },
    {
      "cell_type": "code",
      "source": [
        "accuracy = history_dict_3['accuracy']\n",
        "val_accuracy = history_dict_3['val_accuracy']\n",
        "epochs = range(1, len(accuracy)+1)\n",
        "plt.plot(epochs,accuracy,color='grey',label='Training Accuracy')\n",
        "plt.plot(epochs,val_accuracy,color='blue',linestyle='dashed',label='Validation Accuracy')\n",
        "plt.xlabel('Epochs')\n",
        "plt.ylabel('Accuracy')\n",
        "plt.legend()\n",
        "plt.show()"
      ],
      "metadata": {
        "colab": {
          "base_uri": "https://localhost:8080/",
          "height": 279
        },
        "id": "pWlN2-dFahgM",
        "outputId": "5215b3b7-faf5-4db2-f7e0-caa6f7c747b3"
      },
      "execution_count": 48,
      "outputs": [
        {
          "output_type": "display_data",
          "data": {
            "text/plain": [
              "<Figure size 432x288 with 1 Axes>"
            ],
            "image/png": "[encoded data removed]"
          },
          "metadata": {
            "needs_background": "light"
          }
        }
      ]
    },
    {
      "cell_type": "markdown",
      "source": [
        "The \"Accuracy Plot\" confirms the same thing; here, the accuracy peaked at the third epoch."
      ],
      "metadata": {
        "id": "RILoYCkyavaz"
      }
    },
    {
      "cell_type": "markdown",
      "source": [
        "**Retraining a model from scratch with epochs=3**"
      ],
      "metadata": {
        "id": "GPT2KwIHa17i"
      }
    },
    {
      "cell_type": "code",
      "source": [
        "model = keras.Sequential([\n",
        "    layers.Dense(64,activation='relu',kernel_regularizer=regularizers.l2(0.001),input_shape=(10000,)),\n",
        "    layers.Dense(64,activation='relu',kernel_regularizer=regularizers.l2(0.001)),\n",
        "    layers.Dense(64,activation='relu',kernel_regularizer=regularizers.l2(0.001)),\n",
        "    layers.Dense(1,activation='sigmoid')\n",
        "])\n",
        "\n",
        "model.compile(optimizer='rmsprop',\n",
        "              loss='binary_crossentropy',\n",
        "              metrics=['accuracy'])\n",
        "\n",
        "history_D3 = model.fit(x_train,\n",
        "                       y_train,\n",
        "                       epochs=3,\n",
        "                       batch_size=512)\n",
        "     "
      ],
      "metadata": {
        "colab": {
          "base_uri": "https://localhost:8080/"
        },
        "id": "_erI5fD1bAr6",
        "outputId": "ecd1a551-5c90-4f79-e5db-a4ab04c28400"
      },
      "execution_count": 49,
      "outputs": [
        {
          "output_type": "stream",
          "name": "stdout",
          "text": [
            "Epoch 1/3\n",
            "49/49 [==============================] - 3s 51ms/step - loss: 0.6870 - accuracy: 0.7771\n",
            "Epoch 2/3\n",
            "49/49 [==============================] - 2s 50ms/step - loss: 0.4432 - accuracy: 0.8899\n",
            "Epoch 3/3\n",
            "49/49 [==============================] - 3s 59ms/step - loss: 0.3630 - accuracy: 0.9114\n"
          ]
        }
      ]
    },
    {
      "cell_type": "code",
      "source": [
        "results3= model.evaluate(x_test,y_test)"
      ],
      "metadata": {
        "colab": {
          "base_uri": "https://localhost:8080/"
        },
        "id": "Hqx4dXk7bkr7",
        "outputId": "520e3825-1831-456c-fea2-213bc2d344a4"
      },
      "execution_count": 50,
      "outputs": [
        {
          "output_type": "stream",
          "name": "stdout",
          "text": [
            "782/782 [==============================] - 3s 4ms/step - loss: 0.4290 - accuracy: 0.8738\n"
          ]
        }
      ]
    },
    {
      "cell_type": "markdown",
      "source": [
        "**The** **third** **model built had an accuracy on the test set of 87.38%.**"
      ],
      "metadata": {
        "id": "CBvAKRUJcWzS"
      }
    },
    {
      "cell_type": "markdown",
      "source": [
        "## **Model-4 - 2 hidden layer 64 nodes**"
      ],
      "metadata": {
        "id": "bYZvGim2cdkW"
      }
    },
    {
      "cell_type": "code",
      "source": [
        "model = keras.Sequential([\n",
        "    layers.Dense(64,activation='relu',input_shape=(10000,)),\n",
        "    layers.Dropout(rate=0.5),\n",
        "    layers.Dense(64,activation='relu'),\n",
        "    layers.Dropout(rate=0.5),\n",
        "    layers.Dense(1,activation='sigmoid')\n",
        "])\n",
        "\n",
        "model.compile(optimizer='rmsprop',\n",
        "              loss='binary_crossentropy',\n",
        "              metrics=['accuracy'])\n",
        "\n",
        "history4 = model.fit(partial_x_train,\n",
        "                       partial_y_train,\n",
        "                       epochs=50,\n",
        "                       batch_size=256,\n",
        "                       validation_data=(x_val,y_val))"
      ],
      "metadata": {
        "colab": {
          "base_uri": "https://localhost:8080/"
        },
        "id": "9QGkyXJFddmC",
        "outputId": "0ea3d162-0980-4f8a-9df5-47ba9646599b"
      },
      "execution_count": 40,
      "outputs": [
        {
          "output_type": "stream",
          "name": "stdout",
          "text": [
            "Epoch 1/50\n",
            "59/59 [==============================] - 5s 61ms/step - loss: 0.5022 - accuracy: 0.7543 - val_loss: 0.3143 - val_accuracy: 0.8789\n",
            "Epoch 2/50\n",
            "59/59 [==============================] - 2s 38ms/step - loss: 0.2916 - accuracy: 0.8871 - val_loss: 0.2768 - val_accuracy: 0.8892\n",
            "Epoch 3/50\n",
            "59/59 [==============================] - 2s 40ms/step - loss: 0.2187 - accuracy: 0.9202 - val_loss: 0.2761 - val_accuracy: 0.8916\n",
            "Epoch 4/50\n",
            "59/59 [==============================] - 2s 40ms/step - loss: 0.1691 - accuracy: 0.9387 - val_loss: 0.2884 - val_accuracy: 0.8910\n",
            "Epoch 5/50\n",
            "59/59 [==============================] - 3s 55ms/step - loss: 0.1289 - accuracy: 0.9545 - val_loss: 0.3267 - val_accuracy: 0.8903\n",
            "Epoch 6/50\n",
            "59/59 [==============================] - 3s 45ms/step - loss: 0.1007 - accuracy: 0.9664 - val_loss: 0.3698 - val_accuracy: 0.8890\n",
            "Epoch 7/50\n",
            "59/59 [==============================] - 2s 40ms/step - loss: 0.0790 - accuracy: 0.9727 - val_loss: 0.4209 - val_accuracy: 0.8838\n",
            "Epoch 8/50\n",
            "59/59 [==============================] - 2s 40ms/step - loss: 0.0609 - accuracy: 0.9815 - val_loss: 0.4532 - val_accuracy: 0.8865\n",
            "Epoch 9/50\n",
            "59/59 [==============================] - 2s 40ms/step - loss: 0.0511 - accuracy: 0.9838 - val_loss: 0.5105 - val_accuracy: 0.8818\n",
            "Epoch 10/50\n",
            "59/59 [==============================] - 3s 58ms/step - loss: 0.0434 - accuracy: 0.9863 - val_loss: 0.5764 - val_accuracy: 0.8825\n",
            "Epoch 11/50\n",
            "59/59 [==============================] - 3s 43ms/step - loss: 0.0397 - accuracy: 0.9889 - val_loss: 0.5841 - val_accuracy: 0.8792\n",
            "Epoch 12/50\n",
            "59/59 [==============================] - 2s 41ms/step - loss: 0.0325 - accuracy: 0.9911 - val_loss: 0.6156 - val_accuracy: 0.8819\n",
            "Epoch 13/50\n",
            "59/59 [==============================] - 2s 40ms/step - loss: 0.0309 - accuracy: 0.9919 - val_loss: 0.6148 - val_accuracy: 0.8797\n",
            "Epoch 14/50\n",
            "59/59 [==============================] - 2s 37ms/step - loss: 0.0270 - accuracy: 0.9915 - val_loss: 0.7258 - val_accuracy: 0.8798\n",
            "Epoch 15/50\n",
            "59/59 [==============================] - 3s 58ms/step - loss: 0.0263 - accuracy: 0.9933 - val_loss: 0.7548 - val_accuracy: 0.8808\n",
            "Epoch 16/50\n",
            "59/59 [==============================] - 2s 41ms/step - loss: 0.0252 - accuracy: 0.9935 - val_loss: 0.7788 - val_accuracy: 0.8799\n",
            "Epoch 17/50\n",
            "59/59 [==============================] - 2s 37ms/step - loss: 0.0227 - accuracy: 0.9952 - val_loss: 0.7750 - val_accuracy: 0.8791\n",
            "Epoch 18/50\n",
            "59/59 [==============================] - 2s 40ms/step - loss: 0.0235 - accuracy: 0.9952 - val_loss: 0.7890 - val_accuracy: 0.8828\n",
            "Epoch 19/50\n",
            "59/59 [==============================] - 2s 40ms/step - loss: 0.0183 - accuracy: 0.9951 - val_loss: 0.8125 - val_accuracy: 0.8821\n",
            "Epoch 20/50\n",
            "59/59 [==============================] - 4s 60ms/step - loss: 0.0228 - accuracy: 0.9948 - val_loss: 0.7913 - val_accuracy: 0.8804\n",
            "Epoch 21/50\n",
            "59/59 [==============================] - 2s 39ms/step - loss: 0.0169 - accuracy: 0.9951 - val_loss: 0.8853 - val_accuracy: 0.8811\n",
            "Epoch 22/50\n",
            "59/59 [==============================] - 2s 41ms/step - loss: 0.0151 - accuracy: 0.9959 - val_loss: 0.8740 - val_accuracy: 0.8789\n",
            "Epoch 23/50\n",
            "59/59 [==============================] - 2s 41ms/step - loss: 0.0174 - accuracy: 0.9957 - val_loss: 0.9200 - val_accuracy: 0.8807\n",
            "Epoch 24/50\n",
            "59/59 [==============================] - 2s 40ms/step - loss: 0.0168 - accuracy: 0.9957 - val_loss: 0.9262 - val_accuracy: 0.8808\n",
            "Epoch 25/50\n",
            "59/59 [==============================] - 3s 55ms/step - loss: 0.0154 - accuracy: 0.9959 - val_loss: 0.9602 - val_accuracy: 0.8827\n",
            "Epoch 26/50\n",
            "59/59 [==============================] - 2s 40ms/step - loss: 0.0172 - accuracy: 0.9965 - val_loss: 0.9924 - val_accuracy: 0.8809\n",
            "Epoch 27/50\n",
            "59/59 [==============================] - 2s 41ms/step - loss: 0.0226 - accuracy: 0.9954 - val_loss: 0.9885 - val_accuracy: 0.8793\n",
            "Epoch 28/50\n",
            "59/59 [==============================] - 2s 40ms/step - loss: 0.0144 - accuracy: 0.9962 - val_loss: 1.0707 - val_accuracy: 0.8815\n",
            "Epoch 29/50\n",
            "59/59 [==============================] - 2s 37ms/step - loss: 0.0191 - accuracy: 0.9957 - val_loss: 0.9974 - val_accuracy: 0.8780\n",
            "Epoch 30/50\n",
            "59/59 [==============================] - 3s 56ms/step - loss: 0.0189 - accuracy: 0.9954 - val_loss: 0.9901 - val_accuracy: 0.8790\n",
            "Epoch 31/50\n",
            "59/59 [==============================] - 2s 42ms/step - loss: 0.0208 - accuracy: 0.9952 - val_loss: 0.9700 - val_accuracy: 0.8773\n",
            "Epoch 32/50\n",
            "59/59 [==============================] - 2s 41ms/step - loss: 0.0171 - accuracy: 0.9961 - val_loss: 1.0463 - val_accuracy: 0.8783\n",
            "Epoch 33/50\n",
            "59/59 [==============================] - 2s 40ms/step - loss: 0.0168 - accuracy: 0.9966 - val_loss: 1.0787 - val_accuracy: 0.8797\n",
            "Epoch 34/50\n",
            "59/59 [==============================] - 2s 40ms/step - loss: 0.0204 - accuracy: 0.9957 - val_loss: 1.0003 - val_accuracy: 0.8792\n",
            "Epoch 35/50\n",
            "59/59 [==============================] - 3s 58ms/step - loss: 0.0126 - accuracy: 0.9970 - val_loss: 1.1431 - val_accuracy: 0.8773\n",
            "Epoch 36/50\n",
            "59/59 [==============================] - 2s 42ms/step - loss: 0.0205 - accuracy: 0.9953 - val_loss: 1.0733 - val_accuracy: 0.8757\n",
            "Epoch 37/50\n",
            "59/59 [==============================] - 2s 37ms/step - loss: 0.0185 - accuracy: 0.9963 - val_loss: 1.1159 - val_accuracy: 0.8785\n",
            "Epoch 38/50\n",
            "59/59 [==============================] - 2s 40ms/step - loss: 0.0163 - accuracy: 0.9971 - val_loss: 1.2286 - val_accuracy: 0.8798\n",
            "Epoch 39/50\n",
            "59/59 [==============================] - 2s 40ms/step - loss: 0.0277 - accuracy: 0.9953 - val_loss: 1.0145 - val_accuracy: 0.8781\n",
            "Epoch 40/50\n",
            "59/59 [==============================] - 4s 60ms/step - loss: 0.0157 - accuracy: 0.9969 - val_loss: 1.0961 - val_accuracy: 0.8780\n",
            "Epoch 41/50\n",
            "59/59 [==============================] - 2s 40ms/step - loss: 0.0240 - accuracy: 0.9959 - val_loss: 1.0620 - val_accuracy: 0.8753\n",
            "Epoch 42/50\n",
            "59/59 [==============================] - 2s 38ms/step - loss: 0.0133 - accuracy: 0.9975 - val_loss: 1.1430 - val_accuracy: 0.8759\n",
            "Epoch 43/50\n",
            "59/59 [==============================] - 2s 41ms/step - loss: 0.0182 - accuracy: 0.9957 - val_loss: 1.1427 - val_accuracy: 0.8762\n",
            "Epoch 44/50\n",
            "59/59 [==============================] - 2s 37ms/step - loss: 0.0146 - accuracy: 0.9963 - val_loss: 1.1858 - val_accuracy: 0.8754\n",
            "Epoch 45/50\n",
            "59/59 [==============================] - 4s 62ms/step - loss: 0.0189 - accuracy: 0.9961 - val_loss: 1.0791 - val_accuracy: 0.8782\n",
            "Epoch 46/50\n",
            "59/59 [==============================] - 2s 40ms/step - loss: 0.0095 - accuracy: 0.9973 - val_loss: 1.2428 - val_accuracy: 0.8771\n",
            "Epoch 47/50\n",
            "59/59 [==============================] - 7s 127ms/step - loss: 0.0163 - accuracy: 0.9968 - val_loss: 1.1357 - val_accuracy: 0.8777\n",
            "Epoch 48/50\n",
            "59/59 [==============================] - 6s 106ms/step - loss: 0.0182 - accuracy: 0.9958 - val_loss: 1.1666 - val_accuracy: 0.8780\n",
            "Epoch 49/50\n",
            "59/59 [==============================] - 2s 40ms/step - loss: 0.0144 - accuracy: 0.9973 - val_loss: 1.2266 - val_accuracy: 0.8766\n",
            "Epoch 50/50\n",
            "59/59 [==============================] - 2s 40ms/step - loss: 0.0200 - accuracy: 0.9965 - val_loss: 1.1867 - val_accuracy: 0.8755\n"
          ]
        }
      ]
    },
    {
      "cell_type": "code",
      "source": [
        "history_dict_4 = history4.history\n",
        "     "
      ],
      "metadata": {
        "id": "JCbE_z5ReYEL"
      },
      "execution_count": 41,
      "outputs": []
    },
    {
      "cell_type": "markdown",
      "source": [
        "**plotting the training and validation loss**"
      ],
      "metadata": {
        "id": "NrvPEMPyenwm"
      }
    },
    {
      "cell_type": "code",
      "source": [
        "loss = history_dict_4['loss']\n",
        "val_loss = history_dict_4['val_loss']\n",
        "epochs = range(1, len(loss)+1)\n",
        "plt.plot(epochs,loss,color='grey',label='Training Loss')\n",
        "plt.plot(epochs,val_loss,color='red',linestyle='dashed',label='Validation Loss')\n",
        "plt.xlabel('Epochs')\n",
        "plt.ylabel('Loss')\n",
        "plt.legend()\n",
        "plt.show()"
      ],
      "metadata": {
        "colab": {
          "base_uri": "https://localhost:8080/",
          "height": 279
        },
        "id": "A-6SqCQqerEu",
        "outputId": "c188ed4f-66f9-447f-fbe4-daa75a1d4584"
      },
      "execution_count": 42,
      "outputs": [
        {
          "output_type": "display_data",
          "data": {
            "text/plain": [
              "<Figure size 432x288 with 1 Axes>"
            ],
            "image/png": "[encoded data removed]"
          },
          "metadata": {
            "needs_background": "light"
          }
        }
      ]
    },
    {
      "cell_type": "markdown",
      "source": [
        "The validation loss begins to take a spike after the third epoch, so based on the loss graph above, we can determine that \"3\" is the appropriate number of epochs."
      ],
      "metadata": {
        "id": "6kkqKDC1fPFX"
      }
    },
    {
      "cell_type": "markdown",
      "source": [
        "**plotting the training and validation accuracy**"
      ],
      "metadata": {
        "id": "93j-s0C_ytSx"
      }
    },
    {
      "cell_type": "code",
      "source": [
        "accuracy = history_dict_4['accuracy']\n",
        "val_accuracy = history_dict_4['val_accuracy']\n",
        "epochs = range(1, len(accuracy)+1)\n",
        "plt.plot(epochs,accuracy,color='grey',label='Training Accuracy')\n",
        "plt.plot(epochs,val_accuracy,color='blue',linestyle='dashed',label='Validation Accuracy')\n",
        "plt.xlabel('Epochs')\n",
        "plt.ylabel('Accuracy')\n",
        "plt.legend()\n",
        "plt.show()\n"
      ],
      "metadata": {
        "colab": {
          "base_uri": "https://localhost:8080/",
          "height": 279
        },
        "id": "mXyyZ_AtfVdv",
        "outputId": "865e9db4-561e-41db-c05c-e849ecdab24b"
      },
      "execution_count": 43,
      "outputs": [
        {
          "output_type": "display_data",
          "data": {
            "text/plain": [
              "<Figure size 432x288 with 1 Axes>"
            ],
            "image/png": "[encoded data removed]"
          },
          "metadata": {
            "needs_background": "light"
          }
        }
      ]
    },
    {
      "cell_type": "markdown",
      "source": [
        "The \"Accuracy Plot\" confirms the same thing; here, the accuracy peaked at the third epoch."
      ],
      "metadata": {
        "id": "IfGHu-ElfrMq"
      }
    },
    {
      "cell_type": "markdown",
      "source": [
        "**Retraining the model with 3 epochs**\n"
      ],
      "metadata": {
        "id": "epYuHKwufsxi"
      }
    },
    {
      "cell_type": "code",
      "source": [
        "\n",
        "model = keras.Sequential([\n",
        "    layers.Dense(64,activation='relu',input_shape=(10000,)),\n",
        "    layers.Dropout(rate=0.5),\n",
        "    layers.Dense(64,activation='relu'),\n",
        "    layers.Dropout(rate=0.5),\n",
        "    layers.Dense(1,activation='sigmoid')\n",
        "])\n",
        "\n",
        "model.compile(optimizer='rmsprop',\n",
        "              loss='binary_crossentropy',\n",
        "              metrics=['accuracy'])\n",
        "\n",
        "history5 = model.fit(x_train,\n",
        "                       y_train,\n",
        "                       epochs=3,\n",
        "                       batch_size=256)"
      ],
      "metadata": {
        "colab": {
          "base_uri": "https://localhost:8080/"
        },
        "id": "7wDouKB2f22c",
        "outputId": "bb0d9547-02ea-4fb3-86c7-d6a5235517bb"
      },
      "execution_count": 44,
      "outputs": [
        {
          "output_type": "stream",
          "name": "stdout",
          "text": [
            "Epoch 1/3\n",
            "98/98 [==============================] - 5s 37ms/step - loss: 0.4404 - accuracy: 0.7991\n",
            "Epoch 2/3\n",
            "98/98 [==============================] - 3s 29ms/step - loss: 0.2615 - accuracy: 0.8988\n",
            "Epoch 3/3\n",
            "98/98 [==============================] - 3s 29ms/step - loss: 0.2079 - accuracy: 0.9243\n"
          ]
        }
      ]
    },
    {
      "cell_type": "code",
      "source": [
        "results4 = model.evaluate(x_test,y_test)"
      ],
      "metadata": {
        "colab": {
          "base_uri": "https://localhost:8080/"
        },
        "id": "fRFviUuPk0eH",
        "outputId": "ca7faf07-d5e7-40d4-ab1d-852d6b6e8ab1"
      },
      "execution_count": 45,
      "outputs": [
        {
          "output_type": "stream",
          "name": "stdout",
          "text": [
            "782/782 [==============================] - 3s 4ms/step - loss: 0.2964 - accuracy: 0.8844\n"
          ]
        }
      ]
    },
    {
      "cell_type": "markdown",
      "source": [
        "**The fourth model built had an accuracy on the test set of 88.44%**"
      ],
      "metadata": {
        "id": "Q1jRAhpGoJ5v"
      }
    },
    {
      "cell_type": "markdown",
      "source": [
        "## **Model 5 - Hidden layers=1, Nodes=32**"
      ],
      "metadata": {
        "id": "Mv_Uu8gCoVpa"
      }
    },
    {
      "cell_type": "code",
      "source": [
        "model = keras.Sequential([\n",
        "    layers.Dense(32,activation='tanh',input_shape=(10000,)),\n",
        "    layers.Dropout(rate=0.3),\n",
        "    layers.Dense(1,activation='sigmoid')\n",
        "])\n",
        "\n",
        "model.compile(optimizer='adam',\n",
        "              loss='mse',\n",
        "              metrics=['accuracy'])\n",
        "\n",
        "history6 = model.fit(partial_x_train,\n",
        "                       partial_y_train,\n",
        "                       epochs=50,\n",
        "                       batch_size=512,\n",
        "                       validation_data=(x_val,y_val))"
      ],
      "metadata": {
        "colab": {
          "base_uri": "https://localhost:8080/"
        },
        "id": "Ye1n_ETVoiky",
        "outputId": "f595642e-87bf-4314-d9fa-229e0ec48a3c"
      },
      "execution_count": 46,
      "outputs": [
        {
          "output_type": "stream",
          "name": "stdout",
          "text": [
            "Epoch 1/50\n",
            "30/30 [==============================] - 3s 69ms/step - loss: 0.1583 - accuracy: 0.7943 - val_loss: 0.1085 - val_accuracy: 0.8722\n",
            "Epoch 2/50\n",
            "30/30 [==============================] - 1s 46ms/step - loss: 0.0815 - accuracy: 0.9119 - val_loss: 0.0902 - val_accuracy: 0.8892\n",
            "Epoch 3/50\n",
            "30/30 [==============================] - 1s 45ms/step - loss: 0.0604 - accuracy: 0.9367 - val_loss: 0.0857 - val_accuracy: 0.8887\n",
            "Epoch 4/50\n",
            "30/30 [==============================] - 1s 50ms/step - loss: 0.0482 - accuracy: 0.9531 - val_loss: 0.0837 - val_accuracy: 0.8884\n",
            "Epoch 5/50\n",
            "30/30 [==============================] - 2s 74ms/step - loss: 0.0393 - accuracy: 0.9641 - val_loss: 0.0839 - val_accuracy: 0.8865\n",
            "Epoch 6/50\n",
            "30/30 [==============================] - 2s 50ms/step - loss: 0.0329 - accuracy: 0.9725 - val_loss: 0.0844 - val_accuracy: 0.8846\n",
            "Epoch 7/50\n",
            "30/30 [==============================] - 1s 45ms/step - loss: 0.0274 - accuracy: 0.9784 - val_loss: 0.0859 - val_accuracy: 0.8818\n",
            "Epoch 8/50\n",
            "30/30 [==============================] - 1s 45ms/step - loss: 0.0233 - accuracy: 0.9834 - val_loss: 0.0873 - val_accuracy: 0.8786\n",
            "Epoch 9/50\n",
            "30/30 [==============================] - 1s 45ms/step - loss: 0.0198 - accuracy: 0.9869 - val_loss: 0.0887 - val_accuracy: 0.8788\n",
            "Epoch 10/50\n",
            "30/30 [==============================] - 1s 44ms/step - loss: 0.0172 - accuracy: 0.9894 - val_loss: 0.0909 - val_accuracy: 0.8754\n",
            "Epoch 11/50\n",
            "30/30 [==============================] - 1s 45ms/step - loss: 0.0148 - accuracy: 0.9911 - val_loss: 0.0920 - val_accuracy: 0.8774\n",
            "Epoch 12/50\n",
            "30/30 [==============================] - 1s 45ms/step - loss: 0.0130 - accuracy: 0.9930 - val_loss: 0.0936 - val_accuracy: 0.8759\n",
            "Epoch 13/50\n",
            "30/30 [==============================] - 2s 54ms/step - loss: 0.0113 - accuracy: 0.9937 - val_loss: 0.0948 - val_accuracy: 0.8755\n",
            "Epoch 14/50\n",
            "30/30 [==============================] - 2s 79ms/step - loss: 0.0101 - accuracy: 0.9945 - val_loss: 0.0963 - val_accuracy: 0.8732\n",
            "Epoch 15/50\n",
            "30/30 [==============================] - 1s 45ms/step - loss: 0.0089 - accuracy: 0.9956 - val_loss: 0.0974 - val_accuracy: 0.8720\n",
            "Epoch 16/50\n",
            "30/30 [==============================] - 1s 43ms/step - loss: 0.0080 - accuracy: 0.9961 - val_loss: 0.0987 - val_accuracy: 0.8706\n",
            "Epoch 17/50\n",
            "30/30 [==============================] - 1s 45ms/step - loss: 0.0073 - accuracy: 0.9962 - val_loss: 0.0999 - val_accuracy: 0.8696\n",
            "Epoch 18/50\n",
            "30/30 [==============================] - 1s 44ms/step - loss: 0.0067 - accuracy: 0.9966 - val_loss: 0.1003 - val_accuracy: 0.8692\n",
            "Epoch 19/50\n",
            "30/30 [==============================] - 1s 45ms/step - loss: 0.0062 - accuracy: 0.9968 - val_loss: 0.1011 - val_accuracy: 0.8683\n",
            "Epoch 20/50\n",
            "30/30 [==============================] - 2s 56ms/step - loss: 0.0057 - accuracy: 0.9969 - val_loss: 0.1018 - val_accuracy: 0.8675\n",
            "Epoch 21/50\n",
            "30/30 [==============================] - 1s 45ms/step - loss: 0.0054 - accuracy: 0.9969 - val_loss: 0.1028 - val_accuracy: 0.8674\n",
            "Epoch 22/50\n",
            "30/30 [==============================] - 2s 74ms/step - loss: 0.0051 - accuracy: 0.9969 - val_loss: 0.1034 - val_accuracy: 0.8672\n",
            "Epoch 23/50\n",
            "30/30 [==============================] - 2s 61ms/step - loss: 0.0047 - accuracy: 0.9972 - val_loss: 0.1043 - val_accuracy: 0.8677\n",
            "Epoch 24/50\n",
            "30/30 [==============================] - 1s 45ms/step - loss: 0.0045 - accuracy: 0.9972 - val_loss: 0.1052 - val_accuracy: 0.8675\n",
            "Epoch 25/50\n",
            "30/30 [==============================] - 1s 45ms/step - loss: 0.0043 - accuracy: 0.9972 - val_loss: 0.1055 - val_accuracy: 0.8663\n",
            "Epoch 26/50\n",
            "30/30 [==============================] - 2s 69ms/step - loss: 0.0042 - accuracy: 0.9972 - val_loss: 0.1058 - val_accuracy: 0.8669\n",
            "Epoch 27/50\n",
            "30/30 [==============================] - 1s 45ms/step - loss: 0.0039 - accuracy: 0.9973 - val_loss: 0.1064 - val_accuracy: 0.8665\n",
            "Epoch 28/50\n",
            "30/30 [==============================] - 1s 47ms/step - loss: 0.0038 - accuracy: 0.9973 - val_loss: 0.1073 - val_accuracy: 0.8651\n",
            "Epoch 29/50\n",
            "30/30 [==============================] - 1s 45ms/step - loss: 0.0036 - accuracy: 0.9974 - val_loss: 0.1077 - val_accuracy: 0.8643\n",
            "Epoch 30/50\n",
            "30/30 [==============================] - 2s 65ms/step - loss: 0.0035 - accuracy: 0.9975 - val_loss: 0.1084 - val_accuracy: 0.8644\n",
            "Epoch 31/50\n",
            "30/30 [==============================] - 2s 71ms/step - loss: 0.0034 - accuracy: 0.9975 - val_loss: 0.1087 - val_accuracy: 0.8645\n",
            "Epoch 32/50\n",
            "30/30 [==============================] - 1s 44ms/step - loss: 0.0032 - accuracy: 0.9976 - val_loss: 0.1093 - val_accuracy: 0.8628\n",
            "Epoch 33/50\n",
            "30/30 [==============================] - 1s 44ms/step - loss: 0.0031 - accuracy: 0.9977 - val_loss: 0.1094 - val_accuracy: 0.8632\n",
            "Epoch 34/50\n",
            "30/30 [==============================] - 1s 45ms/step - loss: 0.0031 - accuracy: 0.9977 - val_loss: 0.1098 - val_accuracy: 0.8633\n",
            "Epoch 35/50\n",
            "30/30 [==============================] - 1s 46ms/step - loss: 0.0030 - accuracy: 0.9977 - val_loss: 0.1100 - val_accuracy: 0.8645\n",
            "Epoch 36/50\n",
            "30/30 [==============================] - 1s 45ms/step - loss: 0.0029 - accuracy: 0.9977 - val_loss: 0.1104 - val_accuracy: 0.8633\n",
            "Epoch 37/50\n",
            "30/30 [==============================] - 1s 45ms/step - loss: 0.0029 - accuracy: 0.9977 - val_loss: 0.1108 - val_accuracy: 0.8639\n",
            "Epoch 38/50\n",
            "30/30 [==============================] - 1s 45ms/step - loss: 0.0029 - accuracy: 0.9977 - val_loss: 0.1111 - val_accuracy: 0.8628\n",
            "Epoch 39/50\n",
            "30/30 [==============================] - 2s 60ms/step - loss: 0.0028 - accuracy: 0.9977 - val_loss: 0.1113 - val_accuracy: 0.8633\n",
            "Epoch 40/50\n",
            "30/30 [==============================] - 3s 97ms/step - loss: 0.0027 - accuracy: 0.9978 - val_loss: 0.1118 - val_accuracy: 0.8628\n",
            "Epoch 41/50\n",
            "30/30 [==============================] - 2s 70ms/step - loss: 0.0027 - accuracy: 0.9978 - val_loss: 0.1119 - val_accuracy: 0.8629\n",
            "Epoch 42/50\n",
            "30/30 [==============================] - 1s 47ms/step - loss: 0.0027 - accuracy: 0.9978 - val_loss: 0.1119 - val_accuracy: 0.8624\n",
            "Epoch 43/50\n",
            "30/30 [==============================] - 1s 47ms/step - loss: 0.0026 - accuracy: 0.9978 - val_loss: 0.1122 - val_accuracy: 0.8631\n",
            "Epoch 44/50\n",
            "30/30 [==============================] - 1s 45ms/step - loss: 0.0026 - accuracy: 0.9978 - val_loss: 0.1128 - val_accuracy: 0.8627\n",
            "Epoch 45/50\n",
            "30/30 [==============================] - 1s 46ms/step - loss: 0.0026 - accuracy: 0.9978 - val_loss: 0.1126 - val_accuracy: 0.8628\n",
            "Epoch 46/50\n",
            "30/30 [==============================] - 1s 46ms/step - loss: 0.0026 - accuracy: 0.9978 - val_loss: 0.1130 - val_accuracy: 0.8615\n",
            "Epoch 47/50\n",
            "30/30 [==============================] - 2s 75ms/step - loss: 0.0025 - accuracy: 0.9978 - val_loss: 0.1132 - val_accuracy: 0.8618\n",
            "Epoch 48/50\n",
            "30/30 [==============================] - 2s 59ms/step - loss: 0.0025 - accuracy: 0.9979 - val_loss: 0.1132 - val_accuracy: 0.8619\n",
            "Epoch 49/50\n",
            "30/30 [==============================] - 1s 45ms/step - loss: 0.0024 - accuracy: 0.9979 - val_loss: 0.1138 - val_accuracy: 0.8618\n",
            "Epoch 50/50\n",
            "30/30 [==============================] - 1s 44ms/step - loss: 0.0024 - accuracy: 0.9979 - val_loss: 0.1138 - val_accuracy: 0.8626\n"
          ]
        }
      ]
    },
    {
      "cell_type": "code",
      "source": [
        "history_dict_5=history6.history"
      ],
      "metadata": {
        "id": "5_xVhHuQpMv7"
      },
      "execution_count": 47,
      "outputs": []
    },
    {
      "cell_type": "markdown",
      "source": [
        "**plotting the training and validation loss**"
      ],
      "metadata": {
        "id": "dBFQe7IRyzOS"
      }
    },
    {
      "cell_type": "code",
      "source": [
        "loss = history_dict_5['loss']\n",
        "val_loss = history_dict_5['val_loss']\n",
        "epochs = range(1, len(loss)+1)\n",
        "plt.plot(epochs,loss,color='grey',label='Training Loss')\n",
        "plt.plot(epochs,val_loss,color='red',linestyle='dashed',label='Validation Loss')\n",
        "plt.xlabel('Epochs')\n",
        "plt.ylabel('Loss')\n",
        "plt.legend()\n",
        "plt.show()"
      ],
      "metadata": {
        "colab": {
          "base_uri": "https://localhost:8080/",
          "height": 279
        },
        "id": "y6Al4olEpVNe",
        "outputId": "e9956887-32e6-442c-8a6e-7f548637a2d2"
      },
      "execution_count": 49,
      "outputs": [
        {
          "output_type": "display_data",
          "data": {
            "text/plain": [
              "<Figure size 432x288 with 1 Axes>"
            ],
            "image/png": "[encoded data removed]"
          },
          "metadata": {
            "needs_background": "light"
          }
        }
      ]
    },
    {
      "cell_type": "markdown",
      "source": [
        "We can determine the correct number of epochs to be \"5\" from the loss graph shown above because the validation loss begins to spike after the fifth epoch."
      ],
      "metadata": {
        "id": "TbvA78wwpmBj"
      }
    },
    {
      "cell_type": "markdown",
      "source": [
        "**plotting the training and validation accuracy**"
      ],
      "metadata": {
        "id": "gNYzP-SZy5D1"
      }
    },
    {
      "cell_type": "code",
      "source": [
        "accuracy = history_dict_5['accuracy']\n",
        "val_accuracy = history_dict_5['val_accuracy']\n",
        "epochs = range(1, len(accuracy)+1)\n",
        "plt.plot(epochs,accuracy,color='grey',label='Training Accuracy')\n",
        "plt.plot(epochs,val_accuracy,color='blue',linestyle='dashed',label='Validation Accuracy')\n",
        "plt.xlabel('Epochs')\n",
        "plt.ylabel('Accuracy')\n",
        "plt.legend()\n",
        "plt.show()"
      ],
      "metadata": {
        "colab": {
          "base_uri": "https://localhost:8080/",
          "height": 279
        },
        "id": "AdRHoHP_pnO9",
        "outputId": "1de418d3-6a9a-4151-e4d7-1d2acf09755d"
      },
      "execution_count": 50,
      "outputs": [
        {
          "output_type": "display_data",
          "data": {
            "text/plain": [
              "<Figure size 432x288 with 1 Axes>"
            ],
            "image/png": "[encoded data removed]"
          },
          "metadata": {
            "needs_background": "light"
          }
        }
      ]
    },
    {
      "cell_type": "markdown",
      "source": [
        "The \"Accuracy Plot\" confirms the same thing; here, the accuracy peaked at the fifth epoch."
      ],
      "metadata": {
        "id": "90QV9RrJp2z2"
      }
    },
    {
      "cell_type": "markdown",
      "source": [
        "**Retraining the model with 5 epochs**\n"
      ],
      "metadata": {
        "id": "1EFjQUklp4QU"
      }
    },
    {
      "cell_type": "code",
      "source": [
        "model = keras.Sequential([\n",
        "    layers.Dense(32,activation='tanh',input_shape=(10000,)),\n",
        "    layers.Dropout(rate=0.3),\n",
        "    layers.Dense(1,activation='sigmoid')\n",
        "])\n",
        "\n",
        "model.compile(optimizer='adam',\n",
        "              loss='mse',\n",
        "              metrics=['accuracy'])\n",
        "\n",
        "history7 = model.fit(x_train,\n",
        "                       y_train,\n",
        "                       epochs=5,\n",
        "                       batch_size=512)\n",
        "     "
      ],
      "metadata": {
        "colab": {
          "base_uri": "https://localhost:8080/"
        },
        "id": "6WOqx84HqD1a",
        "outputId": "98e3416e-2a34-473e-98e6-b7e36d16b8e1"
      },
      "execution_count": 51,
      "outputs": [
        {
          "output_type": "stream",
          "name": "stdout",
          "text": [
            "Epoch 1/5\n",
            "49/49 [==============================] - 2s 35ms/step - loss: 0.1377 - accuracy: 0.8294\n",
            "Epoch 2/5\n",
            "49/49 [==============================] - 2s 42ms/step - loss: 0.0733 - accuracy: 0.9162\n",
            "Epoch 3/5\n",
            "49/49 [==============================] - 2s 50ms/step - loss: 0.0563 - accuracy: 0.9369\n",
            "Epoch 4/5\n",
            "49/49 [==============================] - 2s 33ms/step - loss: 0.0470 - accuracy: 0.9500\n",
            "Epoch 5/5\n",
            "49/49 [==============================] - 2s 35ms/step - loss: 0.0394 - accuracy: 0.9599\n"
          ]
        }
      ]
    },
    {
      "cell_type": "code",
      "source": [
        "results5 = model.evaluate(x_test,y_test)"
      ],
      "metadata": {
        "colab": {
          "base_uri": "https://localhost:8080/"
        },
        "id": "NM-ImzaJqXVW",
        "outputId": "a50f2212-a69d-4b70-d57b-ea06963c2fb7"
      },
      "execution_count": 52,
      "outputs": [
        {
          "output_type": "stream",
          "name": "stdout",
          "text": [
            "782/782 [==============================] - 2s 3ms/step - loss: 0.0882 - accuracy: 0.8805\n"
          ]
        }
      ]
    },
    {
      "cell_type": "markdown",
      "source": [
        "**The fifth built model's accuracy on the test set was 88.05%**"
      ],
      "metadata": {
        "id": "opliDFdDqjLb"
      }
    },
    {
      "cell_type": "markdown",
      "source": [
        "## **Model 6 - Hidden Layers=2, Nodes=16**"
      ],
      "metadata": {
        "id": "q9SVt0GTqwnW"
      }
    },
    {
      "cell_type": "code",
      "source": [
        "model = keras.Sequential([\n",
        "    layers.Dense(16,activation='relu',input_shape=(10000,)),\n",
        "    layers.Dropout(rate=0.5),\n",
        "    layers.Dense(16,activation='relu'),\n",
        "    layers.Dropout(rate=0.5),\n",
        "    layers.Dense(1,activation='sigmoid')\n",
        "])\n",
        "\n",
        "model.compile(optimizer='rmsprop',\n",
        "              loss='binary_crossentropy',\n",
        "              metrics=['accuracy'])\n",
        "\n",
        "history8 = model.fit(partial_x_train,\n",
        "                        partial_y_train,\n",
        "                        epochs=30,\n",
        "                        batch_size=512,\n",
        "                        validation_data=(x_val,y_val))\n",
        "     "
      ],
      "metadata": {
        "colab": {
          "base_uri": "https://localhost:8080/"
        },
        "id": "-3G8N-_eq_Y7",
        "outputId": "a3755b62-2e91-4598-dc0c-00f8f875c8f5"
      },
      "execution_count": 53,
      "outputs": [
        {
          "output_type": "stream",
          "name": "stdout",
          "text": [
            "Epoch 1/30\n",
            "30/30 [==============================] - 5s 122ms/step - loss: 0.6276 - accuracy: 0.6396 - val_loss: 0.5039 - val_accuracy: 0.8494\n",
            "Epoch 2/30\n",
            "30/30 [==============================] - 2s 72ms/step - loss: 0.4984 - accuracy: 0.7723 - val_loss: 0.3961 - val_accuracy: 0.8731\n",
            "Epoch 3/30\n",
            "30/30 [==============================] - 1s 40ms/step - loss: 0.4197 - accuracy: 0.8259 - val_loss: 0.3328 - val_accuracy: 0.8772\n",
            "Epoch 4/30\n",
            "30/30 [==============================] - 2s 55ms/step - loss: 0.3554 - accuracy: 0.8660 - val_loss: 0.3006 - val_accuracy: 0.8862\n",
            "Epoch 5/30\n",
            "30/30 [==============================] - 2s 62ms/step - loss: 0.3094 - accuracy: 0.8847 - val_loss: 0.2853 - val_accuracy: 0.8869\n",
            "Epoch 6/30\n",
            "30/30 [==============================] - 1s 38ms/step - loss: 0.2670 - accuracy: 0.9071 - val_loss: 0.2765 - val_accuracy: 0.8888\n",
            "Epoch 7/30\n",
            "30/30 [==============================] - 1s 37ms/step - loss: 0.2403 - accuracy: 0.9197 - val_loss: 0.2798 - val_accuracy: 0.8873\n",
            "Epoch 8/30\n",
            "30/30 [==============================] - 1s 37ms/step - loss: 0.2153 - accuracy: 0.9286 - val_loss: 0.2952 - val_accuracy: 0.8842\n",
            "Epoch 9/30\n",
            "30/30 [==============================] - 1s 37ms/step - loss: 0.1888 - accuracy: 0.9387 - val_loss: 0.2930 - val_accuracy: 0.8875\n",
            "Epoch 10/30\n",
            "30/30 [==============================] - 1s 37ms/step - loss: 0.1723 - accuracy: 0.9453 - val_loss: 0.3129 - val_accuracy: 0.8877\n",
            "Epoch 11/30\n",
            "30/30 [==============================] - 1s 38ms/step - loss: 0.1528 - accuracy: 0.9497 - val_loss: 0.3360 - val_accuracy: 0.8875\n",
            "Epoch 12/30\n",
            "30/30 [==============================] - 1s 37ms/step - loss: 0.1379 - accuracy: 0.9541 - val_loss: 0.3553 - val_accuracy: 0.8822\n",
            "Epoch 13/30\n",
            "30/30 [==============================] - 1s 37ms/step - loss: 0.1239 - accuracy: 0.9581 - val_loss: 0.3735 - val_accuracy: 0.8822\n",
            "Epoch 14/30\n",
            "30/30 [==============================] - 1s 40ms/step - loss: 0.1125 - accuracy: 0.9639 - val_loss: 0.4235 - val_accuracy: 0.8817\n",
            "Epoch 15/30\n",
            "30/30 [==============================] - 2s 51ms/step - loss: 0.1031 - accuracy: 0.9671 - val_loss: 0.4223 - val_accuracy: 0.8850\n",
            "Epoch 16/30\n",
            "30/30 [==============================] - 2s 51ms/step - loss: 0.1011 - accuracy: 0.9662 - val_loss: 0.4417 - val_accuracy: 0.8837\n",
            "Epoch 17/30\n",
            "30/30 [==============================] - 1s 38ms/step - loss: 0.0926 - accuracy: 0.9689 - val_loss: 0.4718 - val_accuracy: 0.8866\n",
            "Epoch 18/30\n",
            "30/30 [==============================] - 1s 37ms/step - loss: 0.0814 - accuracy: 0.9725 - val_loss: 0.4855 - val_accuracy: 0.8838\n",
            "Epoch 19/30\n",
            "30/30 [==============================] - 1s 38ms/step - loss: 0.0824 - accuracy: 0.9713 - val_loss: 0.5218 - val_accuracy: 0.8803\n",
            "Epoch 20/30\n",
            "30/30 [==============================] - 1s 39ms/step - loss: 0.0731 - accuracy: 0.9745 - val_loss: 0.5408 - val_accuracy: 0.8785\n",
            "Epoch 21/30\n",
            "30/30 [==============================] - 1s 41ms/step - loss: 0.0745 - accuracy: 0.9744 - val_loss: 0.5316 - val_accuracy: 0.8819\n",
            "Epoch 22/30\n",
            "30/30 [==============================] - 1s 38ms/step - loss: 0.0663 - accuracy: 0.9775 - val_loss: 0.6092 - val_accuracy: 0.8831\n",
            "Epoch 23/30\n",
            "30/30 [==============================] - 1s 37ms/step - loss: 0.0700 - accuracy: 0.9763 - val_loss: 0.5985 - val_accuracy: 0.8791\n",
            "Epoch 24/30\n",
            "30/30 [==============================] - 1s 38ms/step - loss: 0.0656 - accuracy: 0.9781 - val_loss: 0.6320 - val_accuracy: 0.8793\n",
            "Epoch 25/30\n",
            "30/30 [==============================] - 1s 46ms/step - loss: 0.0666 - accuracy: 0.9773 - val_loss: 0.6348 - val_accuracy: 0.8809\n",
            "Epoch 26/30\n",
            "30/30 [==============================] - 2s 66ms/step - loss: 0.0606 - accuracy: 0.9799 - val_loss: 0.6722 - val_accuracy: 0.8803\n",
            "Epoch 27/30\n",
            "30/30 [==============================] - 1s 43ms/step - loss: 0.0620 - accuracy: 0.9786 - val_loss: 0.7132 - val_accuracy: 0.8805\n",
            "Epoch 28/30\n",
            "30/30 [==============================] - 1s 37ms/step - loss: 0.0584 - accuracy: 0.9812 - val_loss: 0.7347 - val_accuracy: 0.8809\n",
            "Epoch 29/30\n",
            "30/30 [==============================] - 1s 37ms/step - loss: 0.0603 - accuracy: 0.9792 - val_loss: 0.7067 - val_accuracy: 0.8808\n",
            "Epoch 30/30\n",
            "30/30 [==============================] - 1s 37ms/step - loss: 0.0587 - accuracy: 0.9815 - val_loss: 0.6633 - val_accuracy: 0.8770\n"
          ]
        }
      ]
    },
    {
      "cell_type": "code",
      "source": [
        "history_dict_6= history8.history"
      ],
      "metadata": {
        "id": "MK9PGrlpra48"
      },
      "execution_count": 54,
      "outputs": []
    },
    {
      "cell_type": "markdown",
      "source": [
        "**plotting the training and validation loss**"
      ],
      "metadata": {
        "id": "X4yLFA1iy_cq"
      }
    },
    {
      "cell_type": "code",
      "source": [
        "loss=history_dict_6['loss']\n",
        "val_loss=history_dict_6['val_loss']\n",
        "epochs=range(1,len(loss)+1)\n",
        "plt.plot(epochs,loss,color='grey',label='Training Loss')\n",
        "plt.plot(epochs,val_loss,color='red',linestyle='dashed',label='Validation Loss')\n",
        "plt.xlabel('Epochs')\n",
        "plt.ylabel('Loss')\n",
        "plt.legend()\n",
        "plt.show()"
      ],
      "metadata": {
        "colab": {
          "base_uri": "https://localhost:8080/",
          "height": 279
        },
        "id": "aGYT4UEbrkIX",
        "outputId": "25ee8962-50be-4cf2-97e2-193eb69d25ef"
      },
      "execution_count": 55,
      "outputs": [
        {
          "output_type": "display_data",
          "data": {
            "text/plain": [
              "<Figure size 432x288 with 1 Axes>"
            ],
            "image/png": "[encoded data removed]"
          },
          "metadata": {
            "needs_background": "light"
          }
        }
      ]
    },
    {
      "cell_type": "markdown",
      "source": [
        "The validation loss begins to take a spike after the seventh epoch, so based on the loss graph above, we can determine that \"7\" is the appropriate number of epochs."
      ],
      "metadata": {
        "id": "0gHc4R1cr56n"
      }
    },
    {
      "cell_type": "markdown",
      "source": [
        "**plotting the training and validation accuracy**"
      ],
      "metadata": {
        "id": "HBiioqzszEBN"
      }
    },
    {
      "cell_type": "code",
      "source": [
        "accuracy=history_dict_6['accuracy']\n",
        "val_accuracy=history_dict_6['val_accuracy']\n",
        "epochs=range(1,len(accuracy)+1)\n",
        "plt.plot(epochs,accuracy,color='grey',label='Training Acc')\n",
        "plt.plot(epochs,val_accuracy,color='blue',linestyle='dashed',label='Validation Acc')\n",
        "plt.xlabel('Epochs')\n",
        "plt.ylabel('Acc')\n",
        "plt.legend()\n",
        "plt.show()\n",
        "     "
      ],
      "metadata": {
        "colab": {
          "base_uri": "https://localhost:8080/",
          "height": 279
        },
        "id": "4hn62fo0r7VV",
        "outputId": "f718381c-203f-41ed-dc51-4686d7080b79"
      },
      "execution_count": 56,
      "outputs": [
        {
          "output_type": "display_data",
          "data": {
            "text/plain": [
              "<Figure size 432x288 with 1 Axes>"
            ],
            "image/png": "[encoded data removed]"
          },
          "metadata": {
            "needs_background": "light"
          }
        }
      ]
    },
    {
      "cell_type": "markdown",
      "source": [
        "The \"Accuracy Plot\" confirms the same thing; here, the accuracy peaked at the seventh epoch."
      ],
      "metadata": {
        "id": "h0Zbb82ksMHN"
      }
    },
    {
      "cell_type": "markdown",
      "source": [
        "**Retraining the model with 7 epochs**"
      ],
      "metadata": {
        "id": "WfdXWAtEsPLS"
      }
    },
    {
      "cell_type": "code",
      "source": [
        "model = keras.Sequential([\n",
        "    layers.Dense(16,activation='relu',input_shape=(10000,)),\n",
        "    layers.Dropout(rate=0.5),\n",
        "    layers.Dense(16,activation='relu'),\n",
        "    layers.Dropout(rate=0.5),\n",
        "    layers.Dense(1,activation='sigmoid')\n",
        "])\n",
        "\n",
        "model.compile(optimizer='rmsprop',\n",
        "              loss='binary_crossentropy',\n",
        "              metrics=['accuracy'])\n",
        "\n",
        "history9 = model.fit(x_train,\n",
        "                        y_train,\n",
        "                        epochs=7,\n",
        "                        batch_size=512)"
      ],
      "metadata": {
        "colab": {
          "base_uri": "https://localhost:8080/"
        },
        "id": "G_HyElYusXoH",
        "outputId": "8dcecd1c-eabb-4aa5-a258-9d6c3876b27b"
      },
      "execution_count": 16,
      "outputs": [
        {
          "output_type": "stream",
          "name": "stdout",
          "text": [
            "Epoch 1/7\n",
            "49/49 [==============================] - 2s 32ms/step - loss: 0.6111 - accuracy: 0.6588\n",
            "Epoch 2/7\n",
            "49/49 [==============================] - 1s 29ms/step - loss: 0.4606 - accuracy: 0.7946\n",
            "Epoch 3/7\n",
            "49/49 [==============================] - 1s 30ms/step - loss: 0.3741 - accuracy: 0.8466\n",
            "Epoch 4/7\n",
            "49/49 [==============================] - 2s 31ms/step - loss: 0.3223 - accuracy: 0.8758\n",
            "Epoch 5/7\n",
            "49/49 [==============================] - 2s 44ms/step - loss: 0.2810 - accuracy: 0.8953\n",
            "Epoch 6/7\n",
            "49/49 [==============================] - 2s 35ms/step - loss: 0.2552 - accuracy: 0.9043\n",
            "Epoch 7/7\n",
            "49/49 [==============================] - 1s 29ms/step - loss: 0.2273 - accuracy: 0.9124\n"
          ]
        }
      ]
    },
    {
      "cell_type": "code",
      "source": [
        "results6= model.evaluate(x_test,y_test)"
      ],
      "metadata": {
        "colab": {
          "base_uri": "https://localhost:8080/"
        },
        "id": "rlWa32WIsoa0",
        "outputId": "a1a96396-e352-4c0a-e1da-40d2fc439a05"
      },
      "execution_count": 17,
      "outputs": [
        {
          "output_type": "stream",
          "name": "stdout",
          "text": [
            "782/782 [==============================] - 2s 3ms/step - loss: 0.2896 - accuracy: 0.8858\n"
          ]
        }
      ]
    },
    {
      "cell_type": "markdown",
      "source": [
        "**The sixth built model's accuracy on the test set was 88.58%**"
      ],
      "metadata": {
        "id": "92gCaOw-t9XW"
      }
    },
    {
      "cell_type": "markdown",
      "source": [
        "## **Model-7 Hidden Layers=2 Nodes=16**"
      ],
      "metadata": {
        "id": "VsMf17OvuEd2"
      }
    },
    {
      "cell_type": "code",
      "source": [
        "model = keras.Sequential([\n",
        "    layers.Dense(16,activation='relu',input_shape=(10000,)),\n",
        "    layers.Dropout(rate=0.4),\n",
        "    layers.Dense(16,activation='relu'),\n",
        "    layers.Dropout(rate=0.4),\n",
        "    layers.Dense(1,activation='sigmoid')\n",
        "])\n",
        "\n",
        "model.compile(optimizer='rmsprop',\n",
        "              loss='binary_crossentropy',\n",
        "              metrics=['accuracy'])\n",
        "\n",
        "history10 = model.fit(partial_x_train,\n",
        "                        partial_y_train,\n",
        "                        epochs=20,\n",
        "                        batch_size=512,\n",
        "                        validation_data=(x_val,y_val))"
      ],
      "metadata": {
        "colab": {
          "base_uri": "https://localhost:8080/"
        },
        "id": "CpvFnCCmuRo1",
        "outputId": "8d11d046-6856-410c-c7db-662edbda471f"
      },
      "execution_count": 22,
      "outputs": [
        {
          "output_type": "stream",
          "name": "stdout",
          "text": [
            "Epoch 1/20\n",
            "30/30 [==============================] - 3s 63ms/step - loss: 0.6154 - accuracy: 0.6611 - val_loss: 0.4838 - val_accuracy: 0.8549\n",
            "Epoch 2/20\n",
            "30/30 [==============================] - 1s 41ms/step - loss: 0.4725 - accuracy: 0.8027 - val_loss: 0.3845 - val_accuracy: 0.8767\n",
            "Epoch 3/20\n",
            "30/30 [==============================] - 2s 64ms/step - loss: 0.3867 - accuracy: 0.8549 - val_loss: 0.3263 - val_accuracy: 0.8779\n",
            "Epoch 4/20\n",
            "30/30 [==============================] - 4s 150ms/step - loss: 0.3265 - accuracy: 0.8821 - val_loss: 0.2903 - val_accuracy: 0.8888\n",
            "Epoch 5/20\n",
            "30/30 [==============================] - 2s 53ms/step - loss: 0.2806 - accuracy: 0.9043 - val_loss: 0.2810 - val_accuracy: 0.8834\n",
            "Epoch 6/20\n",
            "30/30 [==============================] - 1s 39ms/step - loss: 0.2384 - accuracy: 0.9203 - val_loss: 0.2842 - val_accuracy: 0.8848\n",
            "Epoch 7/20\n",
            "30/30 [==============================] - 1s 39ms/step - loss: 0.2121 - accuracy: 0.9309 - val_loss: 0.2872 - val_accuracy: 0.8836\n",
            "Epoch 8/20\n",
            "30/30 [==============================] - 1s 39ms/step - loss: 0.1802 - accuracy: 0.9422 - val_loss: 0.2859 - val_accuracy: 0.8883\n",
            "Epoch 9/20\n",
            "30/30 [==============================] - 1s 38ms/step - loss: 0.1612 - accuracy: 0.9498 - val_loss: 0.3000 - val_accuracy: 0.8873\n",
            "Epoch 10/20\n",
            "30/30 [==============================] - 1s 37ms/step - loss: 0.1422 - accuracy: 0.9571 - val_loss: 0.3271 - val_accuracy: 0.8798\n",
            "Epoch 11/20\n",
            "30/30 [==============================] - 1s 38ms/step - loss: 0.1205 - accuracy: 0.9653 - val_loss: 0.3349 - val_accuracy: 0.8865\n",
            "Epoch 12/20\n",
            "30/30 [==============================] - 1s 40ms/step - loss: 0.1083 - accuracy: 0.9676 - val_loss: 0.3760 - val_accuracy: 0.8804\n",
            "Epoch 13/20\n",
            "30/30 [==============================] - 1s 40ms/step - loss: 0.0870 - accuracy: 0.9749 - val_loss: 0.4011 - val_accuracy: 0.8816\n",
            "Epoch 14/20\n",
            "30/30 [==============================] - 2s 60ms/step - loss: 0.0820 - accuracy: 0.9763 - val_loss: 0.4136 - val_accuracy: 0.8824\n",
            "Epoch 15/20\n",
            "30/30 [==============================] - 2s 65ms/step - loss: 0.0739 - accuracy: 0.9779 - val_loss: 0.4394 - val_accuracy: 0.8831\n",
            "Epoch 16/20\n",
            "30/30 [==============================] - 1s 40ms/step - loss: 0.0594 - accuracy: 0.9825 - val_loss: 0.4572 - val_accuracy: 0.8843\n",
            "Epoch 17/20\n",
            "30/30 [==============================] - 2s 54ms/step - loss: 0.0586 - accuracy: 0.9827 - val_loss: 0.5163 - val_accuracy: 0.8804\n",
            "Epoch 18/20\n",
            "30/30 [==============================] - 1s 39ms/step - loss: 0.0490 - accuracy: 0.9846 - val_loss: 0.5172 - val_accuracy: 0.8802\n",
            "Epoch 19/20\n",
            "30/30 [==============================] - 1s 41ms/step - loss: 0.0449 - accuracy: 0.9868 - val_loss: 0.5330 - val_accuracy: 0.8818\n",
            "Epoch 20/20\n",
            "30/30 [==============================] - 1s 38ms/step - loss: 0.0395 - accuracy: 0.9880 - val_loss: 0.5955 - val_accuracy: 0.8814\n"
          ]
        }
      ]
    },
    {
      "cell_type": "code",
      "source": [
        "history_dict_7= history10.history"
      ],
      "metadata": {
        "id": "cM8amNbSumg0"
      },
      "execution_count": 23,
      "outputs": []
    },
    {
      "cell_type": "markdown",
      "source": [
        "**plotting the training and validation loss**"
      ],
      "metadata": {
        "id": "_ITx8MeuzMWj"
      }
    },
    {
      "cell_type": "code",
      "source": [
        "loss=history_dict_7['loss']\n",
        "val_loss=history_dict_7['val_loss']\n",
        "epochs=range(1,len(loss)+1)\n",
        "plt.plot(epochs,loss,color='grey',label='Training Loss')\n",
        "plt.plot(epochs,val_loss,color='red',linestyle='dashed',label='Validation Loss')\n",
        "plt.xlabel('Epochs')\n",
        "plt.ylabel('Loss')\n",
        "plt.legend()\n",
        "plt.show()\n",
        "     "
      ],
      "metadata": {
        "colab": {
          "base_uri": "https://localhost:8080/",
          "height": 279
        },
        "id": "MAMDukCyuuVe",
        "outputId": "434d281e-f5a9-4420-8622-9172bfb43f25"
      },
      "execution_count": 37,
      "outputs": [
        {
          "output_type": "display_data",
          "data": {
            "text/plain": [
              "<Figure size 432x288 with 1 Axes>"
            ],
            "image/png": "[encoded data removed]"
          },
          "metadata": {
            "needs_background": "light"
          }
        }
      ]
    },
    {
      "cell_type": "markdown",
      "source": [
        "We can determine the correct number of epochs to be \"4\" from the loss graph shown above because the validation loss begins to spike after the fourth epoch."
      ],
      "metadata": {
        "id": "euOjqFvPwu6M"
      }
    },
    {
      "cell_type": "markdown",
      "source": [
        "**plotting the training and validation accuracy**"
      ],
      "metadata": {
        "id": "Ritg2VgPzQQe"
      }
    },
    {
      "cell_type": "code",
      "source": [
        "accuracy=history_dict_7['accuracy']\n",
        "val_accuracy=history_dict_7['val_accuracy']\n",
        "epochs=range(1,len(accuracy)+1)\n",
        "plt.plot(epochs,accuracy,color='grey',label='Training Acc')\n",
        "plt.plot(epochs,val_accuracy,color='blue',linestyle='dashed',label='Validation Acc')\n",
        "plt.xlabel('Epochs')\n",
        "plt.ylabel('Acc')\n",
        "plt.legend()\n",
        "plt.show()\n",
        "     \n"
      ],
      "metadata": {
        "colab": {
          "base_uri": "https://localhost:8080/",
          "height": 281
        },
        "id": "YWeppo6twwhn",
        "outputId": "9787df50-38ee-4fea-ef52-8c05bf7ae164"
      },
      "execution_count": 38,
      "outputs": [
        {
          "output_type": "display_data",
          "data": {
            "text/plain": [
              "<Figure size 432x288 with 1 Axes>"
            ],
            "image/png": "[encoded data removed]"
          },
          "metadata": {
            "needs_background": "light"
          }
        }
      ]
    },
    {
      "cell_type": "markdown",
      "source": [
        "The \"Accuracy Plot\" confirms the same thing; here, the accuracy peaked at the fourth epoch."
      ],
      "metadata": {
        "id": "okcJkvhHw9w1"
      }
    },
    {
      "cell_type": "markdown",
      "source": [
        "**Retraining the model with 4 epochs**\n"
      ],
      "metadata": {
        "id": "0X4bLEXWw_Xn"
      }
    },
    {
      "cell_type": "code",
      "source": [
        "model = keras.Sequential([\n",
        "    layers.Dense(16,activation='relu',input_shape=(10000,)),\n",
        "    layers.Dropout(rate=0.4),\n",
        "    layers.Dense(16,activation='relu'),\n",
        "    layers.Dropout(rate=0.4),\n",
        "    layers.Dense(1,activation='sigmoid')\n",
        "])\n",
        "\n",
        "model.compile(optimizer='rmsprop',\n",
        "              loss='binary_crossentropy',\n",
        "              metrics=['accuracy'])\n",
        "\n",
        "history11 = model.fit(x_train,\n",
        "                        y_train,\n",
        "                        epochs=4,\n",
        "                        batch_size=512)"
      ],
      "metadata": {
        "colab": {
          "base_uri": "https://localhost:8080/"
        },
        "id": "xCBdCoi8xF-u",
        "outputId": "d196595f-189b-4154-f577-86c4d6635900"
      },
      "execution_count": 39,
      "outputs": [
        {
          "output_type": "stream",
          "name": "stdout",
          "text": [
            "Epoch 1/4\n",
            "49/49 [==============================] - 2s 32ms/step - loss: 0.5596 - accuracy: 0.7261\n",
            "Epoch 2/4\n",
            "49/49 [==============================] - 2s 42ms/step - loss: 0.3897 - accuracy: 0.8491\n",
            "Epoch 3/4\n",
            "49/49 [==============================] - 2s 36ms/step - loss: 0.3067 - accuracy: 0.8884\n",
            "Epoch 4/4\n",
            "49/49 [==============================] - 1s 30ms/step - loss: 0.2555 - accuracy: 0.9109\n"
          ]
        }
      ]
    },
    {
      "cell_type": "code",
      "source": [
        "results7= model.evaluate(x_test,y_test)"
      ],
      "metadata": {
        "colab": {
          "base_uri": "https://localhost:8080/"
        },
        "id": "g57_eqwPxUz4",
        "outputId": "2333dfca-23b6-4456-e2d8-f8c8bdde4229"
      },
      "execution_count": 40,
      "outputs": [
        {
          "output_type": "stream",
          "name": "stdout",
          "text": [
            "782/782 [==============================] - 2s 2ms/step - loss: 0.2740 - accuracy: 0.8891\n"
          ]
        }
      ]
    },
    {
      "cell_type": "markdown",
      "source": [
        "**The seventh built model's accuracy on the test set was 88.91%.**"
      ],
      "metadata": {
        "id": "U308TLwPxfJ6"
      }
    },
    {
      "cell_type": "markdown",
      "source": [
        "## **Model 8 - Hidden Layers=2 Nodes=16**"
      ],
      "metadata": {
        "id": "9L28eKAexpwt"
      }
    },
    {
      "cell_type": "code",
      "source": [
        "from tensorflow.keras import regularizers\n",
        "model = keras.Sequential([\n",
        "    layers.Dense(16,activation='relu',input_shape=(10000,),kernel_regularizer=regularizers.l2(0.001)),\n",
        "    layers.Dense(16,activation='relu',kernel_regularizer=regularizers.l2(0.001)),\n",
        "    layers.Dense(1,activation='sigmoid')\n",
        "])\n",
        "\n",
        "model.compile(optimizer='rmsprop',\n",
        "              loss='binary_crossentropy',\n",
        "              metrics=['accuracy'])\n",
        "\n",
        "history12 = model.fit(partial_x_train,\n",
        "                        partial_y_train,\n",
        "                        epochs=20,\n",
        "                        batch_size=512,\n",
        "                        validation_data=(x_val,y_val))"
      ],
      "metadata": {
        "colab": {
          "base_uri": "https://localhost:8080/"
        },
        "id": "no4SnjMEx1j4",
        "outputId": "a474c22b-8fdf-4b39-bdc5-8c13246a5ff9"
      },
      "execution_count": 42,
      "outputs": [
        {
          "output_type": "stream",
          "name": "stdout",
          "text": [
            "Epoch 1/20\n",
            "30/30 [==============================] - 2s 60ms/step - loss: 0.5795 - accuracy: 0.7803 - val_loss: 0.4540 - val_accuracy: 0.8644\n",
            "Epoch 2/20\n",
            "30/30 [==============================] - 1s 38ms/step - loss: 0.3848 - accuracy: 0.8890 - val_loss: 0.3793 - val_accuracy: 0.8747\n",
            "Epoch 3/20\n",
            "30/30 [==============================] - 1s 38ms/step - loss: 0.3055 - accuracy: 0.9147 - val_loss: 0.3621 - val_accuracy: 0.8723\n",
            "Epoch 4/20\n",
            "30/30 [==============================] - 1s 39ms/step - loss: 0.2634 - accuracy: 0.9287 - val_loss: 0.3459 - val_accuracy: 0.8813\n",
            "Epoch 5/20\n",
            "30/30 [==============================] - 2s 61ms/step - loss: 0.2365 - accuracy: 0.9378 - val_loss: 0.3365 - val_accuracy: 0.8862\n",
            "Epoch 6/20\n",
            "30/30 [==============================] - 2s 50ms/step - loss: 0.2165 - accuracy: 0.9463 - val_loss: 0.3349 - val_accuracy: 0.8847\n",
            "Epoch 7/20\n",
            "30/30 [==============================] - 1s 37ms/step - loss: 0.2081 - accuracy: 0.9501 - val_loss: 0.3429 - val_accuracy: 0.8842\n",
            "Epoch 8/20\n",
            "30/30 [==============================] - 1s 38ms/step - loss: 0.1948 - accuracy: 0.9537 - val_loss: 0.3592 - val_accuracy: 0.8819\n",
            "Epoch 9/20\n",
            "30/30 [==============================] - 1s 38ms/step - loss: 0.1836 - accuracy: 0.9609 - val_loss: 0.3656 - val_accuracy: 0.8768\n",
            "Epoch 10/20\n",
            "30/30 [==============================] - 1s 39ms/step - loss: 0.1778 - accuracy: 0.9623 - val_loss: 0.3639 - val_accuracy: 0.8834\n",
            "Epoch 11/20\n",
            "30/30 [==============================] - 1s 39ms/step - loss: 0.1692 - accuracy: 0.9662 - val_loss: 0.3785 - val_accuracy: 0.8793\n",
            "Epoch 12/20\n",
            "30/30 [==============================] - 1s 39ms/step - loss: 0.1649 - accuracy: 0.9701 - val_loss: 0.3825 - val_accuracy: 0.8812\n",
            "Epoch 13/20\n",
            "30/30 [==============================] - 1s 39ms/step - loss: 0.1580 - accuracy: 0.9711 - val_loss: 0.3880 - val_accuracy: 0.8798\n",
            "Epoch 14/20\n",
            "30/30 [==============================] - 1s 38ms/step - loss: 0.1537 - accuracy: 0.9739 - val_loss: 0.3974 - val_accuracy: 0.8775\n",
            "Epoch 15/20\n",
            "30/30 [==============================] - 2s 55ms/step - loss: 0.1489 - accuracy: 0.9742 - val_loss: 0.4287 - val_accuracy: 0.8646\n",
            "Epoch 16/20\n",
            "30/30 [==============================] - 2s 65ms/step - loss: 0.1496 - accuracy: 0.9738 - val_loss: 0.4244 - val_accuracy: 0.8760\n",
            "Epoch 17/20\n",
            "30/30 [==============================] - 1s 40ms/step - loss: 0.1440 - accuracy: 0.9760 - val_loss: 0.4496 - val_accuracy: 0.8623\n",
            "Epoch 18/20\n",
            "30/30 [==============================] - 1s 37ms/step - loss: 0.1390 - accuracy: 0.9794 - val_loss: 0.5776 - val_accuracy: 0.8460\n",
            "Epoch 19/20\n",
            "30/30 [==============================] - 1s 40ms/step - loss: 0.1391 - accuracy: 0.9782 - val_loss: 0.4491 - val_accuracy: 0.8724\n",
            "Epoch 20/20\n",
            "30/30 [==============================] - 1s 38ms/step - loss: 0.1394 - accuracy: 0.9769 - val_loss: 0.5006 - val_accuracy: 0.8631\n"
          ]
        }
      ]
    },
    {
      "cell_type": "code",
      "source": [
        "history_dict_8 = history12.history"
      ],
      "metadata": {
        "id": "NbxAhkzhzN4v"
      },
      "execution_count": 43,
      "outputs": []
    },
    {
      "cell_type": "markdown",
      "source": [
        "**plotting the training and validation loss**"
      ],
      "metadata": {
        "id": "2B-HKA0YzVEq"
      }
    },
    {
      "cell_type": "code",
      "source": [
        "loss=history_dict_8['loss']\n",
        "val_loss=history_dict_8['val_loss']\n",
        "epochs=range(1,len(loss)+1)\n",
        "plt.plot(epochs,loss,color='grey',label='Training Losss')\n",
        "plt.plot(epochs,val_loss,color='red',linestyle='dashed',label='Validation Loss')\n",
        "plt.xlabel('Epochs')\n",
        "plt.ylabel('Loss')\n",
        "plt.legend()\n",
        "plt.show()"
      ],
      "metadata": {
        "colab": {
          "base_uri": "https://localhost:8080/",
          "height": 283
        },
        "id": "DWMHYPFCzXFq",
        "outputId": "5e8acf20-d703-4722-f918-04b3ce828e28"
      },
      "execution_count": 45,
      "outputs": [
        {
          "output_type": "display_data",
          "data": {
            "text/plain": [
              "<Figure size 432x288 with 1 Axes>"
            ],
            "image/png": "[encoded data removed]"
          },
          "metadata": {
            "needs_background": "light"
          }
        }
      ]
    },
    {
      "cell_type": "markdown",
      "source": [
        "The validation loss begins to take a spike after the sixth epoch, so based on the loss graph above, we can determine that \"6\" is the appropriate number of epochs."
      ],
      "metadata": {
        "id": "sAvnp948zoXG"
      }
    },
    {
      "cell_type": "markdown",
      "source": [
        "**plotting the training and validation accuracy**"
      ],
      "metadata": {
        "id": "N3CHCUbJzZ11"
      }
    },
    {
      "cell_type": "code",
      "source": [
        "accuracy=history_dict_8['accuracy']\n",
        "val_accuracy=history_dict_8['val_accuracy']\n",
        "epochs=range(1,len(accuracy)+1)\n",
        "plt.plot(epochs,accuracy,color='grey',label='Training Acc')\n",
        "plt.plot(epochs,val_accuracy,color='blue',linestyle='dashed',label='Validation Acc')\n",
        "plt.xlabel('Epochs')\n",
        "plt.ylabel('Acc')\n",
        "plt.legend()\n",
        "plt.show()"
      ],
      "metadata": {
        "colab": {
          "base_uri": "https://localhost:8080/",
          "height": 279
        },
        "id": "4Ex8_UBezpz6",
        "outputId": "42f8c339-5248-41e8-9dc1-ad3b6d1edfff"
      },
      "execution_count": 46,
      "outputs": [
        {
          "output_type": "display_data",
          "data": {
            "text/plain": [
              "<Figure size 432x288 with 1 Axes>"
            ],
            "image/png": "[encoded data removed]"
          },
          "metadata": {
            "needs_background": "light"
          }
        }
      ]
    },
    {
      "cell_type": "markdown",
      "source": [
        "The \"Accuracy Plot\" confirms the same thing; here, the accuracy peaked at the sixth epoch."
      ],
      "metadata": {
        "id": "UxHAeepa0ApA"
      }
    },
    {
      "cell_type": "markdown",
      "source": [
        "**Retraining the model with 6 epochs**\n",
        "\n",
        "> Indented block\n",
        "\n"
      ],
      "metadata": {
        "id": "ILg-T_660FdS"
      }
    },
    {
      "cell_type": "code",
      "source": [
        "model = keras.Sequential([\n",
        "    layers.Dense(16,activation='relu',input_shape=(10000,),kernel_regularizer=regularizers.l2(0.001)),\n",
        "    layers.Dense(16,activation='relu',kernel_regularizer=regularizers.l2(0.001)),\n",
        "    layers.Dense(1,activation='sigmoid')\n",
        "])\n",
        "\n",
        "model.compile(optimizer='rmsprop',\n",
        "              loss='binary_crossentropy',\n",
        "              metrics=['accuracy'])\n",
        "\n",
        "history13 = model.fit(x_train,\n",
        "                        y_train,\n",
        "                        epochs=6,\n",
        "                        batch_size=512)"
      ],
      "metadata": {
        "colab": {
          "base_uri": "https://localhost:8080/"
        },
        "id": "pjQPmSo_0LEF",
        "outputId": "06d86d8b-be2f-4c12-e595-a5e37c12003d"
      },
      "execution_count": 47,
      "outputs": [
        {
          "output_type": "stream",
          "name": "stdout",
          "text": [
            "Epoch 1/6\n",
            "49/49 [==============================] - 2s 33ms/step - loss: 0.6021 - accuracy: 0.7424\n",
            "Epoch 2/6\n",
            "49/49 [==============================] - 1s 28ms/step - loss: 0.4147 - accuracy: 0.8865\n",
            "Epoch 3/6\n",
            "49/49 [==============================] - 1s 29ms/step - loss: 0.3076 - accuracy: 0.9165\n",
            "Epoch 4/6\n",
            "49/49 [==============================] - 1s 30ms/step - loss: 0.2651 - accuracy: 0.9270\n",
            "Epoch 5/6\n",
            "49/49 [==============================] - 1s 29ms/step - loss: 0.2441 - accuracy: 0.9340\n",
            "Epoch 6/6\n",
            "49/49 [==============================] - 2s 31ms/step - loss: 0.2311 - accuracy: 0.9394\n"
          ]
        }
      ]
    },
    {
      "cell_type": "code",
      "source": [
        "results8= model.evaluate(x_test,y_test)"
      ],
      "metadata": {
        "colab": {
          "base_uri": "https://localhost:8080/"
        },
        "id": "pICU1AHN0XeP",
        "outputId": "b82cc7bc-1ea6-47b0-dc46-01f5167b0ba9"
      },
      "execution_count": 48,
      "outputs": [
        {
          "output_type": "stream",
          "name": "stdout",
          "text": [
            "782/782 [==============================] - 2s 3ms/step - loss: 0.3696 - accuracy: 0.8721\n"
          ]
        }
      ]
    },
    {
      "cell_type": "markdown",
      "source": [
        "**The test set accuracy for the Model 8 was 87.21**"
      ],
      "metadata": {
        "id": "d9Y_Wiur0qJN"
      }
    },
    {
      "cell_type": "markdown",
      "source": [
        "## **Model 9 Hidden Layers= 2 , nodes=32**"
      ],
      "metadata": {
        "id": "awkgfcseey_X"
      }
    },
    {
      "cell_type": "code",
      "source": [
        "from keras.models import Sequential\n",
        "from keras.layers import Dense\n",
        "model = keras.Sequential([\n",
        "    layers.Dense(32,activation='tanh',input_shape=(10000,)),\n",
        "    layers.Dropout(rate=0.5),\n",
        "    layers.Dense(32,activation='tanh'),\n",
        "    layers.Dropout(rate=0.5),\n",
        "    layers.Dense(1,activation='sigmoid')\n",
        "])\n",
        "\n",
        "model.compile(optimizer='rmsprop',\n",
        "              loss='mse',\n",
        "              metrics=['accuracy'])\n",
        "\n",
        "history14 = model.fit(partial_x_train,\n",
        "                       partial_y_train,\n",
        "                       epochs=50,\n",
        "                       batch_size=512,\n",
        "                       validation_data=(x_val,y_val))\n",
        "     "
      ],
      "metadata": {
        "colab": {
          "base_uri": "https://localhost:8080/"
        },
        "id": "R7koeyNHe5Pw",
        "outputId": "d21e3219-9d0c-44db-9353-962d24edd4a9"
      },
      "execution_count": 11,
      "outputs": [
        {
          "output_type": "stream",
          "name": "stdout",
          "text": [
            "Epoch 1/50\n",
            "30/30 [==============================] - 3s 73ms/step - loss: 0.1733 - accuracy: 0.7505 - val_loss: 0.1113 - val_accuracy: 0.8592\n",
            "Epoch 2/50\n",
            "30/30 [==============================] - 1s 47ms/step - loss: 0.0987 - accuracy: 0.8779 - val_loss: 0.0912 - val_accuracy: 0.8762\n",
            "Epoch 3/50\n",
            "30/30 [==============================] - 2s 51ms/step - loss: 0.0766 - accuracy: 0.9024 - val_loss: 0.0833 - val_accuracy: 0.8859\n",
            "Epoch 4/50\n",
            "30/30 [==============================] - 2s 78ms/step - loss: 0.0637 - accuracy: 0.9196 - val_loss: 0.0825 - val_accuracy: 0.8874\n",
            "Epoch 5/50\n",
            "30/30 [==============================] - 2s 56ms/step - loss: 0.0557 - accuracy: 0.9305 - val_loss: 0.0944 - val_accuracy: 0.8741\n",
            "Epoch 6/50\n",
            "30/30 [==============================] - 1s 46ms/step - loss: 0.0487 - accuracy: 0.9397 - val_loss: 0.0867 - val_accuracy: 0.8832\n",
            "Epoch 7/50\n",
            "30/30 [==============================] - 1s 46ms/step - loss: 0.0450 - accuracy: 0.9438 - val_loss: 0.0883 - val_accuracy: 0.8835\n",
            "Epoch 8/50\n",
            "30/30 [==============================] - 1s 47ms/step - loss: 0.0378 - accuracy: 0.9551 - val_loss: 0.1075 - val_accuracy: 0.8638\n",
            "Epoch 9/50\n",
            "30/30 [==============================] - 1s 47ms/step - loss: 0.0381 - accuracy: 0.9532 - val_loss: 0.0955 - val_accuracy: 0.8749\n",
            "Epoch 10/50\n",
            "30/30 [==============================] - 1s 47ms/step - loss: 0.0314 - accuracy: 0.9629 - val_loss: 0.1080 - val_accuracy: 0.8692\n",
            "Epoch 11/50\n",
            "30/30 [==============================] - 1s 47ms/step - loss: 0.0323 - accuracy: 0.9611 - val_loss: 0.1006 - val_accuracy: 0.8738\n",
            "Epoch 12/50\n",
            "30/30 [==============================] - 2s 64ms/step - loss: 0.0282 - accuracy: 0.9663 - val_loss: 0.0989 - val_accuracy: 0.8763\n",
            "Epoch 13/50\n",
            "30/30 [==============================] - 2s 70ms/step - loss: 0.0256 - accuracy: 0.9702 - val_loss: 0.1210 - val_accuracy: 0.8569\n",
            "Epoch 14/50\n",
            "30/30 [==============================] - 1s 46ms/step - loss: 0.0254 - accuracy: 0.9695 - val_loss: 0.1100 - val_accuracy: 0.8690\n",
            "Epoch 15/50\n",
            "30/30 [==============================] - 1s 46ms/step - loss: 0.0256 - accuracy: 0.9699 - val_loss: 0.1074 - val_accuracy: 0.8708\n",
            "Epoch 16/50\n",
            "30/30 [==============================] - 1s 47ms/step - loss: 0.0210 - accuracy: 0.9768 - val_loss: 0.1196 - val_accuracy: 0.8601\n",
            "Epoch 17/50\n",
            "30/30 [==============================] - 1s 48ms/step - loss: 0.0210 - accuracy: 0.9764 - val_loss: 0.1040 - val_accuracy: 0.8769\n",
            "Epoch 18/50\n",
            "30/30 [==============================] - 1s 47ms/step - loss: 0.0205 - accuracy: 0.9770 - val_loss: 0.1047 - val_accuracy: 0.8777\n",
            "Epoch 19/50\n",
            "30/30 [==============================] - 1s 45ms/step - loss: 0.0195 - accuracy: 0.9779 - val_loss: 0.1120 - val_accuracy: 0.8666\n",
            "Epoch 20/50\n",
            "30/30 [==============================] - 1s 45ms/step - loss: 0.0188 - accuracy: 0.9785 - val_loss: 0.1115 - val_accuracy: 0.8696\n",
            "Epoch 21/50\n",
            "30/30 [==============================] - 2s 72ms/step - loss: 0.0183 - accuracy: 0.9791 - val_loss: 0.1114 - val_accuracy: 0.8706\n",
            "Epoch 22/50\n",
            "30/30 [==============================] - 2s 64ms/step - loss: 0.0172 - accuracy: 0.9811 - val_loss: 0.1104 - val_accuracy: 0.8738\n",
            "Epoch 23/50\n",
            "30/30 [==============================] - 1s 48ms/step - loss: 0.0153 - accuracy: 0.9830 - val_loss: 0.1228 - val_accuracy: 0.8599\n",
            "Epoch 24/50\n",
            "30/30 [==============================] - 1s 47ms/step - loss: 0.0166 - accuracy: 0.9813 - val_loss: 0.1096 - val_accuracy: 0.8743\n",
            "Epoch 25/50\n",
            "30/30 [==============================] - 1s 48ms/step - loss: 0.0145 - accuracy: 0.9843 - val_loss: 0.1103 - val_accuracy: 0.8742\n",
            "Epoch 26/50\n",
            "30/30 [==============================] - 1s 47ms/step - loss: 0.0156 - accuracy: 0.9829 - val_loss: 0.1140 - val_accuracy: 0.8704\n",
            "Epoch 27/50\n",
            "30/30 [==============================] - 2s 59ms/step - loss: 0.0140 - accuracy: 0.9842 - val_loss: 0.1117 - val_accuracy: 0.8726\n",
            "Epoch 28/50\n",
            "30/30 [==============================] - 1s 47ms/step - loss: 0.0142 - accuracy: 0.9842 - val_loss: 0.1128 - val_accuracy: 0.8727\n",
            "Epoch 29/50\n",
            "30/30 [==============================] - 2s 66ms/step - loss: 0.0120 - accuracy: 0.9875 - val_loss: 0.1141 - val_accuracy: 0.8725\n",
            "Epoch 30/50\n",
            "30/30 [==============================] - 2s 73ms/step - loss: 0.0122 - accuracy: 0.9873 - val_loss: 0.1140 - val_accuracy: 0.8718\n",
            "Epoch 31/50\n",
            "30/30 [==============================] - 1s 47ms/step - loss: 0.0128 - accuracy: 0.9863 - val_loss: 0.1137 - val_accuracy: 0.8724\n",
            "Epoch 32/50\n",
            "30/30 [==============================] - 1s 47ms/step - loss: 0.0123 - accuracy: 0.9867 - val_loss: 0.1140 - val_accuracy: 0.8718\n",
            "Epoch 33/50\n",
            "30/30 [==============================] - 1s 46ms/step - loss: 0.0140 - accuracy: 0.9842 - val_loss: 0.1138 - val_accuracy: 0.8713\n",
            "Epoch 34/50\n",
            "30/30 [==============================] - 1s 45ms/step - loss: 0.0135 - accuracy: 0.9852 - val_loss: 0.1140 - val_accuracy: 0.8710\n",
            "Epoch 35/50\n",
            "30/30 [==============================] - 1s 46ms/step - loss: 0.0108 - accuracy: 0.9885 - val_loss: 0.1178 - val_accuracy: 0.8693\n",
            "Epoch 36/50\n",
            "30/30 [==============================] - 1s 46ms/step - loss: 0.0118 - accuracy: 0.9873 - val_loss: 0.1148 - val_accuracy: 0.8711\n",
            "Epoch 37/50\n",
            "30/30 [==============================] - 1s 46ms/step - loss: 0.0122 - accuracy: 0.9867 - val_loss: 0.1140 - val_accuracy: 0.8716\n",
            "Epoch 38/50\n",
            "30/30 [==============================] - 2s 74ms/step - loss: 0.0124 - accuracy: 0.9862 - val_loss: 0.1153 - val_accuracy: 0.8703\n",
            "Epoch 39/50\n",
            "30/30 [==============================] - 2s 62ms/step - loss: 0.0110 - accuracy: 0.9883 - val_loss: 0.1155 - val_accuracy: 0.8714\n",
            "Epoch 40/50\n",
            "30/30 [==============================] - 1s 47ms/step - loss: 0.0111 - accuracy: 0.9879 - val_loss: 0.1153 - val_accuracy: 0.8718\n",
            "Epoch 41/50\n",
            "30/30 [==============================] - 1s 46ms/step - loss: 0.0097 - accuracy: 0.9903 - val_loss: 0.1159 - val_accuracy: 0.8726\n",
            "Epoch 42/50\n",
            "30/30 [==============================] - 1s 44ms/step - loss: 0.0093 - accuracy: 0.9907 - val_loss: 0.1160 - val_accuracy: 0.8725\n",
            "Epoch 43/50\n",
            "30/30 [==============================] - 1s 45ms/step - loss: 0.0104 - accuracy: 0.9888 - val_loss: 0.1166 - val_accuracy: 0.8716\n",
            "Epoch 44/50\n",
            "30/30 [==============================] - 1s 46ms/step - loss: 0.0104 - accuracy: 0.9891 - val_loss: 0.1193 - val_accuracy: 0.8682\n",
            "Epoch 45/50\n",
            "30/30 [==============================] - 1s 47ms/step - loss: 0.0116 - accuracy: 0.9872 - val_loss: 0.1203 - val_accuracy: 0.8678\n",
            "Epoch 46/50\n",
            "30/30 [==============================] - 2s 59ms/step - loss: 0.0098 - accuracy: 0.9897 - val_loss: 0.1172 - val_accuracy: 0.8706\n",
            "Epoch 47/50\n",
            "30/30 [==============================] - 2s 78ms/step - loss: 0.0096 - accuracy: 0.9903 - val_loss: 0.1180 - val_accuracy: 0.8701\n",
            "Epoch 48/50\n",
            "30/30 [==============================] - 1s 45ms/step - loss: 0.0092 - accuracy: 0.9907 - val_loss: 0.1266 - val_accuracy: 0.8614\n",
            "Epoch 49/50\n",
            "30/30 [==============================] - 1s 46ms/step - loss: 0.0092 - accuracy: 0.9906 - val_loss: 0.1167 - val_accuracy: 0.8727\n",
            "Epoch 50/50\n",
            "30/30 [==============================] - 1s 47ms/step - loss: 0.0099 - accuracy: 0.9896 - val_loss: 0.1172 - val_accuracy: 0.8717\n"
          ]
        }
      ]
    },
    {
      "cell_type": "code",
      "source": [
        "history_dict_9= history14.history"
      ],
      "metadata": {
        "id": "f_lIPxP8hZ-z"
      },
      "execution_count": 15,
      "outputs": []
    },
    {
      "cell_type": "markdown",
      "source": [
        "**plotting the training and validation loss**"
      ],
      "metadata": {
        "id": "EvuimWitzd1v"
      }
    },
    {
      "cell_type": "code",
      "source": [
        "loss = history_dict_9['loss']\n",
        "val_loss = history_dict_9['val_loss']\n",
        "epochs = range(1, len(loss)+1)\n",
        "plt.plot(epochs,loss,color='grey',label='Training Loss')\n",
        "plt.plot(epochs,val_loss,color='red',linestyle='dashed',label='Validation Loss')\n",
        "plt.xlabel('Epochs')\n",
        "plt.ylabel('Loss')\n",
        "plt.legend()\n",
        "plt.show()"
      ],
      "metadata": {
        "colab": {
          "base_uri": "https://localhost:8080/",
          "height": 279
        },
        "id": "VFfqTQ73hmgh",
        "outputId": "54b785cb-ef09-47e6-a8de-abdcc3047314"
      },
      "execution_count": 19,
      "outputs": [
        {
          "output_type": "display_data",
          "data": {
            "text/plain": [
              "<Figure size 432x288 with 1 Axes>"
            ],
            "image/png": "[encoded data removed]"
          },
          "metadata": {
            "needs_background": "light"
          }
        }
      ]
    },
    {
      "cell_type": "markdown",
      "source": [
        "The validation loss begins to take a spike after the fifth epoch, so based on the loss graph above, we can determine that \"6\" is the appropriate number of epochs."
      ],
      "metadata": {
        "id": "2EcffFecz_n7"
      }
    },
    {
      "cell_type": "markdown",
      "source": [
        "**plotting the training and validation accuracy**"
      ],
      "metadata": {
        "id": "1Ii29tM_zh5o"
      }
    },
    {
      "cell_type": "code",
      "source": [
        "accuracy = history_dict_9['accuracy']\n",
        "val_accuracy = history_dict_9['val_accuracy']\n",
        "epochs = range(1, len(accuracy)+1)\n",
        "plt.plot(epochs,accuracy,color='grey',label='Training Accuracy')\n",
        "plt.plot(epochs,val_accuracy,color='blue',linestyle='dashed',label='Validation Accuracy')\n",
        "plt.xlabel('Epochs')\n",
        "plt.ylabel('Accuracy')\n",
        "plt.legend()\n",
        "plt.show()\n",
        "     "
      ],
      "metadata": {
        "colab": {
          "base_uri": "https://localhost:8080/",
          "height": 281
        },
        "id": "aXzYA-9BiJPR",
        "outputId": "1ac79b32-805f-42d7-9877-b2392d2003a1"
      },
      "execution_count": 20,
      "outputs": [
        {
          "output_type": "display_data",
          "data": {
            "text/plain": [
              "<Figure size 432x288 with 1 Axes>"
            ],
            "image/png": "[encoded data removed]"
          },
          "metadata": {
            "needs_background": "light"
          }
        }
      ]
    },
    {
      "cell_type": "markdown",
      "source": [
        "The \"Accuracy Plot\" confirms the same thing; here, the accuracy peaked at the fifth epoch."
      ],
      "metadata": {
        "id": "I5HKqEV4z0vs"
      }
    },
    {
      "cell_type": "markdown",
      "source": [
        "**Retraining the model with 5 epochs**"
      ],
      "metadata": {
        "id": "ZLedAi7Zzxpc"
      }
    },
    {
      "cell_type": "code",
      "source": [
        "model = keras.Sequential([\n",
        "    layers.Dense(32,activation='tanh',input_shape=(10000,)),\n",
        "    layers.Dropout(rate=0.5),\n",
        "    layers.Dense(32,activation='tanh'),\n",
        "    layers.Dropout(rate=0.5),\n",
        "    layers.Dense(1,activation='sigmoid')\n",
        "])\n",
        "\n",
        "model.compile(optimizer='rmsprop',\n",
        "              loss='binary_crossentropy',\n",
        "              metrics=['accuracy'])\n",
        "\n",
        "imdb_mod_7 = model.fit(x_train,\n",
        "                       y_train,\n",
        "                       epochs=5,\n",
        "                       batch_size=512)\n",
        "     "
      ],
      "metadata": {
        "colab": {
          "base_uri": "https://localhost:8080/"
        },
        "id": "w-89lANbjIMw",
        "outputId": "83f581d6-be93-42e2-83ee-6dd08fde4c41"
      },
      "execution_count": 22,
      "outputs": [
        {
          "output_type": "stream",
          "name": "stdout",
          "text": [
            "Epoch 1/5\n",
            "49/49 [==============================] - 2s 37ms/step - loss: 0.4365 - accuracy: 0.8020\n",
            "Epoch 2/5\n",
            "49/49 [==============================] - 2s 36ms/step - loss: 0.2733 - accuracy: 0.8954\n",
            "Epoch 3/5\n",
            "49/49 [==============================] - 2s 36ms/step - loss: 0.2288 - accuracy: 0.9136\n",
            "Epoch 4/5\n",
            "49/49 [==============================] - 2s 48ms/step - loss: 0.2033 - accuracy: 0.9252\n",
            "Epoch 5/5\n",
            "49/49 [==============================] - 3s 51ms/step - loss: 0.1809 - accuracy: 0.9339\n"
          ]
        }
      ]
    },
    {
      "cell_type": "code",
      "source": [
        "results9= model.evaluate(x_test,y_test)"
      ],
      "metadata": {
        "colab": {
          "base_uri": "https://localhost:8080/"
        },
        "id": "eDBNCBNKjykk",
        "outputId": "7bd073c4-80e9-4bea-ec39-ab9a0ed88694"
      },
      "execution_count": 23,
      "outputs": [
        {
          "output_type": "stream",
          "name": "stdout",
          "text": [
            "782/782 [==============================] - 3s 3ms/step - loss: 0.3143 - accuracy: 0.8810\n"
          ]
        }
      ]
    },
    {
      "cell_type": "markdown",
      "source": [
        "**The test set accuracy for the Model 9 is 88.10**"
      ],
      "metadata": {
        "id": "IJ6VOC5n0-6l"
      }
    },
    {
      "cell_type": "markdown",
      "source": [
        "## ***Evaluating the performance of nine different neural network models trained on the IMDB dataset ***"
      ],
      "metadata": {
        "id": "razv4NsN0grk"
      }
    },
    {
      "cell_type": "code",
      "source": [
        "loss_dict = {'Model1': 0.3028, 'Model2': 0.0847, 'Model3': 0.4290, 'Model4': 0.2964,\n",
        "             'Model5': 0.0882, 'Model6': 0.2896, 'Model7': 0.2740, 'Model8': 0.3696, \n",
        "             'Model9': 0.3143}\n",
        "\n",
        "# Get model names and loss values as separate lists\n",
        "models = list(loss_dict.keys())\n",
        "losses = list(loss_dict.values())\n",
        "\n",
        "# Plot the scatter plot with labels\n",
        "plt.scatter(models, losses, color='red')\n",
        "plt.title('Performance Loss')\n",
        "plt.ylabel('Loss (%)')\n",
        "\n",
        "for (xi, yi) in zip(models, losses):\n",
        "    plt.text(xi, yi, str(yi), va='bottom', ha='center')\n",
        "\n",
        "plt.show()"
      ],
      "metadata": {
        "colab": {
          "base_uri": "https://localhost:8080/",
          "height": 281
        },
        "id": "ib7MmWPc8fTE",
        "outputId": "90eea270-7858-4c3c-f062-6cc73d80dbea"
      },
      "execution_count": 24,
      "outputs": [
        {
          "output_type": "display_data",
          "data": {
            "text/plain": [
              "<Figure size 432x288 with 1 Axes>"
            ],
            "image/png": "[encoded data removed]"
          },
          "metadata": {
            "needs_background": "light"
          }
        }
      ]
    },
    {
      "cell_type": "code",
      "source": [
        "import matplotlib.pyplot as plt\n",
        "\n",
        "# Create a dictionary with model names as keys and accuracy values as values\n",
        "acc_dict = {'Model1': 0.8856, 'Model2': 0.8837, 'Model3': 0.8808, 'Model4': 0.8852,\n",
        "            'Model5': 0.8787, 'Model6': 0.8871, 'Model7': 0.8885, 'Model8': 0.8860,\n",
        "            'Model9': 0.8810}\n",
        "\n",
        "# Get model names and accuracy values as separate lists\n",
        "models = list(acc_dict.keys())\n",
        "accuracy = list(acc_dict.values())\n",
        "\n",
        "# Plot the scatter plot with labels\n",
        "plt.scatter(models, accuracy, color='blue')\n",
        "plt.title('Performance Accuracy')\n",
        "plt.ylabel('Accuracy (%)')\n",
        "\n",
        "for (xi, yi) in zip(models, accuracy):\n",
        "  plt.text(xi, yi, str(yi), va='bottom', ha='center')\n",
        "\n",
        "plt.show()"
      ],
      "metadata": {
        "colab": {
          "base_uri": "https://localhost:8080/",
          "height": 281
        },
        "id": "ULChRq8T9EAj",
        "outputId": "00fe74da-6bf5-4b02-d780-8cce407b63e5"
      },
      "execution_count": 26,
      "outputs": [
        {
          "output_type": "display_data",
          "data": {
            "text/plain": [
              "<Figure size 432x288 with 1 Axes>"
            ],
            "image/png": "[encoded data removed]"
          },
          "metadata": {
            "needs_background": "light"
          }
        }
      ]
    }
  ]
}